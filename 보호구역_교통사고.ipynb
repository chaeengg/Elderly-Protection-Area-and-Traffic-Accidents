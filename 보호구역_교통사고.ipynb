{
  "cells": [
    {
      "cell_type": "code",
      "source": [
        "!pip install xlrd\n",
        "!pip install openpyxl"
      ],
      "metadata": {
        "colab": {
          "base_uri": "https://localhost:8080/"
        },
        "id": "LU3iw5_X-0n2",
        "outputId": "6b901cc8-eb5c-4a40-e674-d67433e28f12"
      },
      "id": "LU3iw5_X-0n2",
      "execution_count": null,
      "outputs": [
        {
          "output_type": "stream",
          "name": "stdout",
          "text": [
            "Looking in indexes: https://pypi.org/simple, https://us-python.pkg.dev/colab-wheels/public/simple/\n",
            "Requirement already satisfied: xlrd in /usr/local/lib/python3.7/dist-packages (2.0.1)\n",
            "Looking in indexes: https://pypi.org/simple, https://us-python.pkg.dev/colab-wheels/public/simple/\n",
            "Requirement already satisfied: openpyxl in /usr/local/lib/python3.7/dist-packages (3.0.10)\n",
            "Requirement already satisfied: et-xmlfile in /usr/local/lib/python3.7/dist-packages (from openpyxl) (1.1.0)\n"
          ]
        }
      ]
    },
    {
      "cell_type": "code",
      "source": [
        "pip install --upgrade xlrd"
      ],
      "metadata": {
        "colab": {
          "base_uri": "https://localhost:8080/"
        },
        "id": "jVm-t9AM_HhK",
        "outputId": "bcfd142c-5f91-4cfa-9e0f-3132c4e42323"
      },
      "id": "jVm-t9AM_HhK",
      "execution_count": null,
      "outputs": [
        {
          "output_type": "stream",
          "name": "stdout",
          "text": [
            "Looking in indexes: https://pypi.org/simple, https://us-python.pkg.dev/colab-wheels/public/simple/\n",
            "Requirement already satisfied: xlrd in /usr/local/lib/python3.7/dist-packages (2.0.1)\n"
          ]
        }
      ]
    },
    {
      "cell_type": "code",
      "source": [
        "!sudo apt-get install -y fonts-nanum\n",
        "!sudo fc-cache -fv\n",
        "!rm ~/.cache/matplotlib -rf"
      ],
      "metadata": {
        "colab": {
          "base_uri": "https://localhost:8080/"
        },
        "id": "E_oCqHwuEWkw",
        "outputId": "d5d7410f-ca19-4c8f-b69e-8e8a83e6d716"
      },
      "id": "E_oCqHwuEWkw",
      "execution_count": null,
      "outputs": [
        {
          "output_type": "stream",
          "name": "stdout",
          "text": [
            "Reading package lists... Done\n",
            "Building dependency tree       \n",
            "Reading state information... Done\n",
            "fonts-nanum is already the newest version (20170925-1).\n",
            "The following package was automatically installed and is no longer required:\n",
            "  libnvidia-common-460\n",
            "Use 'sudo apt autoremove' to remove it.\n",
            "0 upgraded, 0 newly installed, 0 to remove and 42 not upgraded.\n",
            "/usr/share/fonts: caching, new cache contents: 0 fonts, 1 dirs\n",
            "/usr/share/fonts/truetype: caching, new cache contents: 0 fonts, 3 dirs\n",
            "/usr/share/fonts/truetype/humor-sans: caching, new cache contents: 1 fonts, 0 dirs\n",
            "/usr/share/fonts/truetype/liberation: caching, new cache contents: 16 fonts, 0 dirs\n",
            "/usr/share/fonts/truetype/nanum: caching, new cache contents: 10 fonts, 0 dirs\n",
            "/usr/local/share/fonts: caching, new cache contents: 0 fonts, 0 dirs\n",
            "/root/.local/share/fonts: skipping, no such directory\n",
            "/root/.fonts: skipping, no such directory\n",
            "/var/cache/fontconfig: cleaning cache directory\n",
            "/root/.cache/fontconfig: not cleaning non-existent cache directory\n",
            "/root/.fontconfig: not cleaning non-existent cache directory\n",
            "fc-cache: succeeded\n"
          ]
        }
      ]
    },
    {
      "cell_type": "code",
      "source": [
        "from google.colab import drive\n",
        "drive.mount('/content/drive')"
      ],
      "metadata": {
        "colab": {
          "base_uri": "https://localhost:8080/"
        },
        "id": "vtQ0NS0v4iyr",
        "outputId": "1f384b25-4bc0-4c26-d22d-f91f941ecbbf"
      },
      "id": "vtQ0NS0v4iyr",
      "execution_count": null,
      "outputs": [
        {
          "output_type": "stream",
          "name": "stdout",
          "text": [
            "Mounted at /content/drive\n"
          ]
        }
      ]
    },
    {
      "cell_type": "code",
      "execution_count": null,
      "id": "44407e38",
      "metadata": {
        "id": "44407e38"
      },
      "outputs": [],
      "source": [
        "import numpy as np\n",
        "import pandas as pd"
      ]
    },
    {
      "cell_type": "markdown",
      "source": [
        "## 노인 인구수(단위: 천 명)"
      ],
      "metadata": {
        "id": "I3zdLKacFHkf"
      },
      "id": "I3zdLKacFHkf"
    },
    {
      "cell_type": "code",
      "source": [
        "# 노인 인구수\n",
        "old_num_of_people = pd.read_excel('/content/drive/Shareddrives/deepDaiv/dataFile/2020_지역별_노인인구.xlsx')"
      ],
      "metadata": {
        "id": "tEGYSXnKFHu_"
      },
      "id": "tEGYSXnKFHu_",
      "execution_count": null,
      "outputs": []
    },
    {
      "cell_type": "code",
      "source": [
        "old_num_of_people_edit = old_num_of_people"
      ],
      "metadata": {
        "id": "RcYmI36SFHxm"
      },
      "id": "RcYmI36SFHxm",
      "execution_count": null,
      "outputs": []
    },
    {
      "cell_type": "code",
      "source": [
        "old_num_of_people_edit.rename(columns={'Unnamed: 0' : '시도명'}, inplace = True)"
      ],
      "metadata": {
        "id": "v3e7oBHDGeRs"
      },
      "id": "v3e7oBHDGeRs",
      "execution_count": null,
      "outputs": []
    },
    {
      "cell_type": "code",
      "source": [
        "old_num_of_people_edit = old_num_of_people_edit[['시도명', 2020]]"
      ],
      "metadata": {
        "id": "-BWuDWaIFH0u"
      },
      "id": "-BWuDWaIFH0u",
      "execution_count": null,
      "outputs": []
    },
    {
      "cell_type": "code",
      "source": [
        "old_num_of_people_edit = old_num_of_people_edit.drop(index=0, axis=0).reset_index()"
      ],
      "metadata": {
        "id": "TIGjsdXjFH25"
      },
      "id": "TIGjsdXjFH25",
      "execution_count": null,
      "outputs": []
    },
    {
      "cell_type": "code",
      "source": [
        "old_num_of_people_edit = old_num_of_people_edit.drop(columns='index', axis=0)"
      ],
      "metadata": {
        "id": "5eLMWz-5Hlfg"
      },
      "id": "5eLMWz-5Hlfg",
      "execution_count": null,
      "outputs": []
    },
    {
      "cell_type": "code",
      "source": [
        "old_num_of_people_edit"
      ],
      "metadata": {
        "colab": {
          "base_uri": "https://localhost:8080/",
          "height": 582
        },
        "id": "slqbtRhYH6Pb",
        "outputId": "dbc8bfeb-eac8-4086-f49e-4241059cbef5"
      },
      "id": "slqbtRhYH6Pb",
      "execution_count": null,
      "outputs": [
        {
          "output_type": "execute_result",
          "data": {
            "text/plain": [
              "   시도명  2020\n",
              "0   서울  1480\n",
              "1   부산   625\n",
              "2   대구   388\n",
              "3   인천   397\n",
              "4   광주   204\n",
              "5   대전   206\n",
              "6   울산   137\n",
              "7   세종    32\n",
              "8   경기  1709\n",
              "9   강원   302\n",
              "10  충북   277\n",
              "11  충남   389\n",
              "12  전북   369\n",
              "13  전남   408\n",
              "14  경북   549\n",
              "15  경남   554\n",
              "16  제주   101"
            ],
            "text/html": [
              "\n",
              "  <div id=\"df-3664767f-3ed2-478c-8165-a2bf0f6b5c7f\">\n",
              "    <div class=\"colab-df-container\">\n",
              "      <div>\n",
              "<style scoped>\n",
              "    .dataframe tbody tr th:only-of-type {\n",
              "        vertical-align: middle;\n",
              "    }\n",
              "\n",
              "    .dataframe tbody tr th {\n",
              "        vertical-align: top;\n",
              "    }\n",
              "\n",
              "    .dataframe thead th {\n",
              "        text-align: right;\n",
              "    }\n",
              "</style>\n",
              "<table border=\"1\" class=\"dataframe\">\n",
              "  <thead>\n",
              "    <tr style=\"text-align: right;\">\n",
              "      <th></th>\n",
              "      <th>시도명</th>\n",
              "      <th>2020</th>\n",
              "    </tr>\n",
              "  </thead>\n",
              "  <tbody>\n",
              "    <tr>\n",
              "      <th>0</th>\n",
              "      <td>서울</td>\n",
              "      <td>1480</td>\n",
              "    </tr>\n",
              "    <tr>\n",
              "      <th>1</th>\n",
              "      <td>부산</td>\n",
              "      <td>625</td>\n",
              "    </tr>\n",
              "    <tr>\n",
              "      <th>2</th>\n",
              "      <td>대구</td>\n",
              "      <td>388</td>\n",
              "    </tr>\n",
              "    <tr>\n",
              "      <th>3</th>\n",
              "      <td>인천</td>\n",
              "      <td>397</td>\n",
              "    </tr>\n",
              "    <tr>\n",
              "      <th>4</th>\n",
              "      <td>광주</td>\n",
              "      <td>204</td>\n",
              "    </tr>\n",
              "    <tr>\n",
              "      <th>5</th>\n",
              "      <td>대전</td>\n",
              "      <td>206</td>\n",
              "    </tr>\n",
              "    <tr>\n",
              "      <th>6</th>\n",
              "      <td>울산</td>\n",
              "      <td>137</td>\n",
              "    </tr>\n",
              "    <tr>\n",
              "      <th>7</th>\n",
              "      <td>세종</td>\n",
              "      <td>32</td>\n",
              "    </tr>\n",
              "    <tr>\n",
              "      <th>8</th>\n",
              "      <td>경기</td>\n",
              "      <td>1709</td>\n",
              "    </tr>\n",
              "    <tr>\n",
              "      <th>9</th>\n",
              "      <td>강원</td>\n",
              "      <td>302</td>\n",
              "    </tr>\n",
              "    <tr>\n",
              "      <th>10</th>\n",
              "      <td>충북</td>\n",
              "      <td>277</td>\n",
              "    </tr>\n",
              "    <tr>\n",
              "      <th>11</th>\n",
              "      <td>충남</td>\n",
              "      <td>389</td>\n",
              "    </tr>\n",
              "    <tr>\n",
              "      <th>12</th>\n",
              "      <td>전북</td>\n",
              "      <td>369</td>\n",
              "    </tr>\n",
              "    <tr>\n",
              "      <th>13</th>\n",
              "      <td>전남</td>\n",
              "      <td>408</td>\n",
              "    </tr>\n",
              "    <tr>\n",
              "      <th>14</th>\n",
              "      <td>경북</td>\n",
              "      <td>549</td>\n",
              "    </tr>\n",
              "    <tr>\n",
              "      <th>15</th>\n",
              "      <td>경남</td>\n",
              "      <td>554</td>\n",
              "    </tr>\n",
              "    <tr>\n",
              "      <th>16</th>\n",
              "      <td>제주</td>\n",
              "      <td>101</td>\n",
              "    </tr>\n",
              "  </tbody>\n",
              "</table>\n",
              "</div>\n",
              "      <button class=\"colab-df-convert\" onclick=\"convertToInteractive('df-3664767f-3ed2-478c-8165-a2bf0f6b5c7f')\"\n",
              "              title=\"Convert this dataframe to an interactive table.\"\n",
              "              style=\"display:none;\">\n",
              "        \n",
              "  <svg xmlns=\"http://www.w3.org/2000/svg\" height=\"24px\"viewBox=\"0 0 24 24\"\n",
              "       width=\"24px\">\n",
              "    <path d=\"M0 0h24v24H0V0z\" fill=\"none\"/>\n",
              "    <path d=\"M18.56 5.44l.94 2.06.94-2.06 2.06-.94-2.06-.94-.94-2.06-.94 2.06-2.06.94zm-11 1L8.5 8.5l.94-2.06 2.06-.94-2.06-.94L8.5 2.5l-.94 2.06-2.06.94zm10 10l.94 2.06.94-2.06 2.06-.94-2.06-.94-.94-2.06-.94 2.06-2.06.94z\"/><path d=\"M17.41 7.96l-1.37-1.37c-.4-.4-.92-.59-1.43-.59-.52 0-1.04.2-1.43.59L10.3 9.45l-7.72 7.72c-.78.78-.78 2.05 0 2.83L4 21.41c.39.39.9.59 1.41.59.51 0 1.02-.2 1.41-.59l7.78-7.78 2.81-2.81c.8-.78.8-2.07 0-2.86zM5.41 20L4 18.59l7.72-7.72 1.47 1.35L5.41 20z\"/>\n",
              "  </svg>\n",
              "      </button>\n",
              "      \n",
              "  <style>\n",
              "    .colab-df-container {\n",
              "      display:flex;\n",
              "      flex-wrap:wrap;\n",
              "      gap: 12px;\n",
              "    }\n",
              "\n",
              "    .colab-df-convert {\n",
              "      background-color: #E8F0FE;\n",
              "      border: none;\n",
              "      border-radius: 50%;\n",
              "      cursor: pointer;\n",
              "      display: none;\n",
              "      fill: #1967D2;\n",
              "      height: 32px;\n",
              "      padding: 0 0 0 0;\n",
              "      width: 32px;\n",
              "    }\n",
              "\n",
              "    .colab-df-convert:hover {\n",
              "      background-color: #E2EBFA;\n",
              "      box-shadow: 0px 1px 2px rgba(60, 64, 67, 0.3), 0px 1px 3px 1px rgba(60, 64, 67, 0.15);\n",
              "      fill: #174EA6;\n",
              "    }\n",
              "\n",
              "    [theme=dark] .colab-df-convert {\n",
              "      background-color: #3B4455;\n",
              "      fill: #D2E3FC;\n",
              "    }\n",
              "\n",
              "    [theme=dark] .colab-df-convert:hover {\n",
              "      background-color: #434B5C;\n",
              "      box-shadow: 0px 1px 3px 1px rgba(0, 0, 0, 0.15);\n",
              "      filter: drop-shadow(0px 1px 2px rgba(0, 0, 0, 0.3));\n",
              "      fill: #FFFFFF;\n",
              "    }\n",
              "  </style>\n",
              "\n",
              "      <script>\n",
              "        const buttonEl =\n",
              "          document.querySelector('#df-3664767f-3ed2-478c-8165-a2bf0f6b5c7f button.colab-df-convert');\n",
              "        buttonEl.style.display =\n",
              "          google.colab.kernel.accessAllowed ? 'block' : 'none';\n",
              "\n",
              "        async function convertToInteractive(key) {\n",
              "          const element = document.querySelector('#df-3664767f-3ed2-478c-8165-a2bf0f6b5c7f');\n",
              "          const dataTable =\n",
              "            await google.colab.kernel.invokeFunction('convertToInteractive',\n",
              "                                                     [key], {});\n",
              "          if (!dataTable) return;\n",
              "\n",
              "          const docLinkHtml = 'Like what you see? Visit the ' +\n",
              "            '<a target=\"_blank\" href=https://colab.research.google.com/notebooks/data_table.ipynb>data table notebook</a>'\n",
              "            + ' to learn more about interactive tables.';\n",
              "          element.innerHTML = '';\n",
              "          dataTable['output_type'] = 'display_data';\n",
              "          await google.colab.output.renderOutput(dataTable, element);\n",
              "          const docLink = document.createElement('div');\n",
              "          docLink.innerHTML = docLinkHtml;\n",
              "          element.appendChild(docLink);\n",
              "        }\n",
              "      </script>\n",
              "    </div>\n",
              "  </div>\n",
              "  "
            ]
          },
          "metadata": {},
          "execution_count": 14
        }
      ]
    },
    {
      "cell_type": "markdown",
      "source": [
        "## 노인 교통사고 건수"
      ],
      "metadata": {
        "id": "4Aou95vd4OBi"
      },
      "id": "4Aou95vd4OBi"
    },
    {
      "cell_type": "code",
      "source": [
        "# 노인 교통사고 건수 \n",
        "old_accident=pd.read_excel('/content/drive/Shareddrives/deepDaiv/dataFile/2020_도로교통공단_노인_교통사고_발생건수.xls')"
      ],
      "metadata": {
        "id": "fEwxAeCF9NmX"
      },
      "id": "fEwxAeCF9NmX",
      "execution_count": null,
      "outputs": []
    },
    {
      "cell_type": "code",
      "source": [
        "old_accident_edit = old_accident.drop(index=19, axis=0)\n",
        "old_accident_edit['sum'] = old_accident_edit['2020.1'] + old_accident_edit['2020.2']\n",
        "old_accident_final = old_accident_edit[['시도', 'sum']]\n",
        "old_accident_final = old_accident_final.drop(index = 0, axis=0)"
      ],
      "metadata": {
        "id": "0QL3QXlN9NkH"
      },
      "id": "0QL3QXlN9NkH",
      "execution_count": null,
      "outputs": []
    },
    {
      "cell_type": "code",
      "source": [
        "old_accident_final = old_accident_final.drop(1, axis=0)"
      ],
      "metadata": {
        "id": "1u78gub1AAGD"
      },
      "id": "1u78gub1AAGD",
      "execution_count": null,
      "outputs": []
    },
    {
      "cell_type": "code",
      "source": [
        "old_accident_final.rename(columns={'시도' : '시도명'}, inplace = True)\n",
        "old_accident_final.rename(columns={'sum' : '교통사고건수'}, inplace = True)"
      ],
      "metadata": {
        "id": "n9MDkMA8Ab1l"
      },
      "id": "n9MDkMA8Ab1l",
      "execution_count": null,
      "outputs": []
    },
    {
      "cell_type": "code",
      "source": [
        "old_accident_final"
      ],
      "metadata": {
        "colab": {
          "base_uri": "https://localhost:8080/",
          "height": 582
        },
        "id": "rVFvw8h2IQ9P",
        "outputId": "73d0acdb-89f0-44db-8205-ac8bfb7d4fba"
      },
      "id": "rVFvw8h2IQ9P",
      "execution_count": null,
      "outputs": [
        {
          "output_type": "execute_result",
          "data": {
            "text/plain": [
              "   시도명 교통사고건수\n",
              "2   서울   5365\n",
              "3   부산   2304\n",
              "4   대구   2187\n",
              "5   인천   1096\n",
              "6   광주   1145\n",
              "7   대전   1229\n",
              "8   울산    601\n",
              "9   세종    122\n",
              "10  경기   7836\n",
              "11  강원   1637\n",
              "12  충북   1874\n",
              "13  충남   2135\n",
              "14  전북   1902\n",
              "15  전남   3117\n",
              "16  경북   3480\n",
              "17  경남   2772\n",
              "18  제주    687"
            ],
            "text/html": [
              "\n",
              "  <div id=\"df-2ab61c15-3e1d-41c2-83b6-2a0a26e21881\">\n",
              "    <div class=\"colab-df-container\">\n",
              "      <div>\n",
              "<style scoped>\n",
              "    .dataframe tbody tr th:only-of-type {\n",
              "        vertical-align: middle;\n",
              "    }\n",
              "\n",
              "    .dataframe tbody tr th {\n",
              "        vertical-align: top;\n",
              "    }\n",
              "\n",
              "    .dataframe thead th {\n",
              "        text-align: right;\n",
              "    }\n",
              "</style>\n",
              "<table border=\"1\" class=\"dataframe\">\n",
              "  <thead>\n",
              "    <tr style=\"text-align: right;\">\n",
              "      <th></th>\n",
              "      <th>시도명</th>\n",
              "      <th>교통사고건수</th>\n",
              "    </tr>\n",
              "  </thead>\n",
              "  <tbody>\n",
              "    <tr>\n",
              "      <th>2</th>\n",
              "      <td>서울</td>\n",
              "      <td>5365</td>\n",
              "    </tr>\n",
              "    <tr>\n",
              "      <th>3</th>\n",
              "      <td>부산</td>\n",
              "      <td>2304</td>\n",
              "    </tr>\n",
              "    <tr>\n",
              "      <th>4</th>\n",
              "      <td>대구</td>\n",
              "      <td>2187</td>\n",
              "    </tr>\n",
              "    <tr>\n",
              "      <th>5</th>\n",
              "      <td>인천</td>\n",
              "      <td>1096</td>\n",
              "    </tr>\n",
              "    <tr>\n",
              "      <th>6</th>\n",
              "      <td>광주</td>\n",
              "      <td>1145</td>\n",
              "    </tr>\n",
              "    <tr>\n",
              "      <th>7</th>\n",
              "      <td>대전</td>\n",
              "      <td>1229</td>\n",
              "    </tr>\n",
              "    <tr>\n",
              "      <th>8</th>\n",
              "      <td>울산</td>\n",
              "      <td>601</td>\n",
              "    </tr>\n",
              "    <tr>\n",
              "      <th>9</th>\n",
              "      <td>세종</td>\n",
              "      <td>122</td>\n",
              "    </tr>\n",
              "    <tr>\n",
              "      <th>10</th>\n",
              "      <td>경기</td>\n",
              "      <td>7836</td>\n",
              "    </tr>\n",
              "    <tr>\n",
              "      <th>11</th>\n",
              "      <td>강원</td>\n",
              "      <td>1637</td>\n",
              "    </tr>\n",
              "    <tr>\n",
              "      <th>12</th>\n",
              "      <td>충북</td>\n",
              "      <td>1874</td>\n",
              "    </tr>\n",
              "    <tr>\n",
              "      <th>13</th>\n",
              "      <td>충남</td>\n",
              "      <td>2135</td>\n",
              "    </tr>\n",
              "    <tr>\n",
              "      <th>14</th>\n",
              "      <td>전북</td>\n",
              "      <td>1902</td>\n",
              "    </tr>\n",
              "    <tr>\n",
              "      <th>15</th>\n",
              "      <td>전남</td>\n",
              "      <td>3117</td>\n",
              "    </tr>\n",
              "    <tr>\n",
              "      <th>16</th>\n",
              "      <td>경북</td>\n",
              "      <td>3480</td>\n",
              "    </tr>\n",
              "    <tr>\n",
              "      <th>17</th>\n",
              "      <td>경남</td>\n",
              "      <td>2772</td>\n",
              "    </tr>\n",
              "    <tr>\n",
              "      <th>18</th>\n",
              "      <td>제주</td>\n",
              "      <td>687</td>\n",
              "    </tr>\n",
              "  </tbody>\n",
              "</table>\n",
              "</div>\n",
              "      <button class=\"colab-df-convert\" onclick=\"convertToInteractive('df-2ab61c15-3e1d-41c2-83b6-2a0a26e21881')\"\n",
              "              title=\"Convert this dataframe to an interactive table.\"\n",
              "              style=\"display:none;\">\n",
              "        \n",
              "  <svg xmlns=\"http://www.w3.org/2000/svg\" height=\"24px\"viewBox=\"0 0 24 24\"\n",
              "       width=\"24px\">\n",
              "    <path d=\"M0 0h24v24H0V0z\" fill=\"none\"/>\n",
              "    <path d=\"M18.56 5.44l.94 2.06.94-2.06 2.06-.94-2.06-.94-.94-2.06-.94 2.06-2.06.94zm-11 1L8.5 8.5l.94-2.06 2.06-.94-2.06-.94L8.5 2.5l-.94 2.06-2.06.94zm10 10l.94 2.06.94-2.06 2.06-.94-2.06-.94-.94-2.06-.94 2.06-2.06.94z\"/><path d=\"M17.41 7.96l-1.37-1.37c-.4-.4-.92-.59-1.43-.59-.52 0-1.04.2-1.43.59L10.3 9.45l-7.72 7.72c-.78.78-.78 2.05 0 2.83L4 21.41c.39.39.9.59 1.41.59.51 0 1.02-.2 1.41-.59l7.78-7.78 2.81-2.81c.8-.78.8-2.07 0-2.86zM5.41 20L4 18.59l7.72-7.72 1.47 1.35L5.41 20z\"/>\n",
              "  </svg>\n",
              "      </button>\n",
              "      \n",
              "  <style>\n",
              "    .colab-df-container {\n",
              "      display:flex;\n",
              "      flex-wrap:wrap;\n",
              "      gap: 12px;\n",
              "    }\n",
              "\n",
              "    .colab-df-convert {\n",
              "      background-color: #E8F0FE;\n",
              "      border: none;\n",
              "      border-radius: 50%;\n",
              "      cursor: pointer;\n",
              "      display: none;\n",
              "      fill: #1967D2;\n",
              "      height: 32px;\n",
              "      padding: 0 0 0 0;\n",
              "      width: 32px;\n",
              "    }\n",
              "\n",
              "    .colab-df-convert:hover {\n",
              "      background-color: #E2EBFA;\n",
              "      box-shadow: 0px 1px 2px rgba(60, 64, 67, 0.3), 0px 1px 3px 1px rgba(60, 64, 67, 0.15);\n",
              "      fill: #174EA6;\n",
              "    }\n",
              "\n",
              "    [theme=dark] .colab-df-convert {\n",
              "      background-color: #3B4455;\n",
              "      fill: #D2E3FC;\n",
              "    }\n",
              "\n",
              "    [theme=dark] .colab-df-convert:hover {\n",
              "      background-color: #434B5C;\n",
              "      box-shadow: 0px 1px 3px 1px rgba(0, 0, 0, 0.15);\n",
              "      filter: drop-shadow(0px 1px 2px rgba(0, 0, 0, 0.3));\n",
              "      fill: #FFFFFF;\n",
              "    }\n",
              "  </style>\n",
              "\n",
              "      <script>\n",
              "        const buttonEl =\n",
              "          document.querySelector('#df-2ab61c15-3e1d-41c2-83b6-2a0a26e21881 button.colab-df-convert');\n",
              "        buttonEl.style.display =\n",
              "          google.colab.kernel.accessAllowed ? 'block' : 'none';\n",
              "\n",
              "        async function convertToInteractive(key) {\n",
              "          const element = document.querySelector('#df-2ab61c15-3e1d-41c2-83b6-2a0a26e21881');\n",
              "          const dataTable =\n",
              "            await google.colab.kernel.invokeFunction('convertToInteractive',\n",
              "                                                     [key], {});\n",
              "          if (!dataTable) return;\n",
              "\n",
              "          const docLinkHtml = 'Like what you see? Visit the ' +\n",
              "            '<a target=\"_blank\" href=https://colab.research.google.com/notebooks/data_table.ipynb>data table notebook</a>'\n",
              "            + ' to learn more about interactive tables.';\n",
              "          element.innerHTML = '';\n",
              "          dataTable['output_type'] = 'display_data';\n",
              "          await google.colab.output.renderOutput(dataTable, element);\n",
              "          const docLink = document.createElement('div');\n",
              "          docLink.innerHTML = docLinkHtml;\n",
              "          element.appendChild(docLink);\n",
              "        }\n",
              "      </script>\n",
              "    </div>\n",
              "  </div>\n",
              "  "
            ]
          },
          "metadata": {},
          "execution_count": 19
        }
      ]
    },
    {
      "cell_type": "markdown",
      "source": [
        "## 보행노인사고다발지역"
      ],
      "metadata": {
        "id": "b5tSy-sk-V_M"
      },
      "id": "b5tSy-sk-V_M"
    },
    {
      "cell_type": "code",
      "source": [
        "# 보행노인사고다발지역\n",
        "old_acc_place=pd.read_csv('/content/drive/Shareddrives/deepDaiv/dataFile/보행노인사고다발지역.csv', encoding='cp949')"
      ],
      "metadata": {
        "id": "l6Dh0aPV9NgM"
      },
      "id": "l6Dh0aPV9NgM",
      "execution_count": null,
      "outputs": []
    },
    {
      "cell_type": "code",
      "source": [
        "#필요한 columns만 추출하여 저장\n",
        "old_acc_place_edit = old_acc_place[['사고다발지ID', '시도시군구명', '발생건수', '사상자수', '사망자수', '중상자수', '경상자수', '부상신고자수']]"
      ],
      "metadata": {
        "id": "jb1aqqTq9Nd_"
      },
      "id": "jb1aqqTq9Nd_",
      "execution_count": null,
      "outputs": []
    },
    {
      "cell_type": "code",
      "source": [
        "#사고다발지ID data 변환\n",
        "old_acc_place_edit = old_acc_place_edit.astype({'사고다발지ID':'str'})"
      ],
      "metadata": {
        "id": "w34jMT8cBFL4"
      },
      "id": "w34jMT8cBFL4",
      "execution_count": null,
      "outputs": []
    },
    {
      "cell_type": "code",
      "source": [
        "#2020만 포함된 데이터만 저장\n",
        "old_acc_place_2020 = old_acc_place_edit[old_acc_place_edit['사고다발지ID'].str.contains('2020')]"
      ],
      "metadata": {
        "id": "thm6u2kD9NZh"
      },
      "id": "thm6u2kD9NZh",
      "execution_count": null,
      "outputs": []
    },
    {
      "cell_type": "code",
      "source": [
        "#다른 table과 join하기 위한 value replace\n",
        "old_acc_place_2020[\"시도시군구명\"] = old_acc_place_2020[\"시도시군구명\"].str[:4]"
      ],
      "metadata": {
        "id": "y5VrMJiL9NXf",
        "colab": {
          "base_uri": "https://localhost:8080/"
        },
        "outputId": "1fe97796-e241-47ee-852b-011d0a148ad4"
      },
      "id": "y5VrMJiL9NXf",
      "execution_count": null,
      "outputs": [
        {
          "output_type": "stream",
          "name": "stderr",
          "text": [
            "/usr/local/lib/python3.7/dist-packages/ipykernel_launcher.py:2: SettingWithCopyWarning: \n",
            "A value is trying to be set on a copy of a slice from a DataFrame.\n",
            "Try using .loc[row_indexer,col_indexer] = value instead\n",
            "\n",
            "See the caveats in the documentation: https://pandas.pydata.org/pandas-docs/stable/user_guide/indexing.html#returning-a-view-versus-a-copy\n",
            "  \n"
          ]
        }
      ]
    },
    {
      "cell_type": "code",
      "source": [
        "old_acc_place_2020[\"시도시군구명\"] = old_acc_place_2020[\"시도시군구명\"].str.replace(\"특별|광역\", '')"
      ],
      "metadata": {
        "id": "zvxJ6AHs9NVi",
        "colab": {
          "base_uri": "https://localhost:8080/"
        },
        "outputId": "1ef5891c-4519-4109-b3c6-7dc086e0f436"
      },
      "id": "zvxJ6AHs9NVi",
      "execution_count": null,
      "outputs": [
        {
          "output_type": "stream",
          "name": "stderr",
          "text": [
            "/usr/local/lib/python3.7/dist-packages/ipykernel_launcher.py:1: FutureWarning: The default value of regex will change from True to False in a future version.\n",
            "  \"\"\"Entry point for launching an IPython kernel.\n",
            "/usr/local/lib/python3.7/dist-packages/ipykernel_launcher.py:1: SettingWithCopyWarning: \n",
            "A value is trying to be set on a copy of a slice from a DataFrame.\n",
            "Try using .loc[row_indexer,col_indexer] = value instead\n",
            "\n",
            "See the caveats in the documentation: https://pandas.pydata.org/pandas-docs/stable/user_guide/indexing.html#returning-a-view-versus-a-copy\n",
            "  \"\"\"Entry point for launching an IPython kernel.\n"
          ]
        }
      ]
    },
    {
      "cell_type": "code",
      "source": [
        "old_acc_place_2020[\"시도시군구명\"] = old_acc_place_2020[\"시도시군구명\"].str.replace(\"경상북도\", '경북')\n",
        "old_acc_place_2020[\"시도시군구명\"] = old_acc_place_2020[\"시도시군구명\"].str.replace(\"경상남도\", '경남')\n",
        "old_acc_place_2020[\"시도시군구명\"] = old_acc_place_2020[\"시도시군구명\"].str.replace(\"전라북도\", '전북')\n",
        "old_acc_place_2020[\"시도시군구명\"] = old_acc_place_2020[\"시도시군구명\"].str.replace(\"전라남도\", '전남')\n",
        "old_acc_place_2020[\"시도시군구명\"] = old_acc_place_2020[\"시도시군구명\"].str.replace(\"충청북도\", '충북')\n",
        "old_acc_place_2020[\"시도시군구명\"] = old_acc_place_2020[\"시도시군구명\"].str.replace(\"충청남도\", '충남')\n",
        "old_acc_place_2020[\"시도시군구명\"] = old_acc_place_2020[\"시도시군구명\"].str.replace(\"경기도\", '경기')"
      ],
      "metadata": {
        "colab": {
          "base_uri": "https://localhost:8080/"
        },
        "id": "Oyc7oP8TOqHP",
        "outputId": "84932723-a810-4a38-dfad-294d6f032285"
      },
      "id": "Oyc7oP8TOqHP",
      "execution_count": null,
      "outputs": [
        {
          "output_type": "stream",
          "name": "stderr",
          "text": [
            "/usr/local/lib/python3.7/dist-packages/ipykernel_launcher.py:1: SettingWithCopyWarning: \n",
            "A value is trying to be set on a copy of a slice from a DataFrame.\n",
            "Try using .loc[row_indexer,col_indexer] = value instead\n",
            "\n",
            "See the caveats in the documentation: https://pandas.pydata.org/pandas-docs/stable/user_guide/indexing.html#returning-a-view-versus-a-copy\n",
            "  \"\"\"Entry point for launching an IPython kernel.\n",
            "/usr/local/lib/python3.7/dist-packages/ipykernel_launcher.py:2: SettingWithCopyWarning: \n",
            "A value is trying to be set on a copy of a slice from a DataFrame.\n",
            "Try using .loc[row_indexer,col_indexer] = value instead\n",
            "\n",
            "See the caveats in the documentation: https://pandas.pydata.org/pandas-docs/stable/user_guide/indexing.html#returning-a-view-versus-a-copy\n",
            "  \n",
            "/usr/local/lib/python3.7/dist-packages/ipykernel_launcher.py:3: SettingWithCopyWarning: \n",
            "A value is trying to be set on a copy of a slice from a DataFrame.\n",
            "Try using .loc[row_indexer,col_indexer] = value instead\n",
            "\n",
            "See the caveats in the documentation: https://pandas.pydata.org/pandas-docs/stable/user_guide/indexing.html#returning-a-view-versus-a-copy\n",
            "  This is separate from the ipykernel package so we can avoid doing imports until\n",
            "/usr/local/lib/python3.7/dist-packages/ipykernel_launcher.py:4: SettingWithCopyWarning: \n",
            "A value is trying to be set on a copy of a slice from a DataFrame.\n",
            "Try using .loc[row_indexer,col_indexer] = value instead\n",
            "\n",
            "See the caveats in the documentation: https://pandas.pydata.org/pandas-docs/stable/user_guide/indexing.html#returning-a-view-versus-a-copy\n",
            "  after removing the cwd from sys.path.\n",
            "/usr/local/lib/python3.7/dist-packages/ipykernel_launcher.py:5: SettingWithCopyWarning: \n",
            "A value is trying to be set on a copy of a slice from a DataFrame.\n",
            "Try using .loc[row_indexer,col_indexer] = value instead\n",
            "\n",
            "See the caveats in the documentation: https://pandas.pydata.org/pandas-docs/stable/user_guide/indexing.html#returning-a-view-versus-a-copy\n",
            "  \"\"\"\n",
            "/usr/local/lib/python3.7/dist-packages/ipykernel_launcher.py:6: SettingWithCopyWarning: \n",
            "A value is trying to be set on a copy of a slice from a DataFrame.\n",
            "Try using .loc[row_indexer,col_indexer] = value instead\n",
            "\n",
            "See the caveats in the documentation: https://pandas.pydata.org/pandas-docs/stable/user_guide/indexing.html#returning-a-view-versus-a-copy\n",
            "  \n",
            "/usr/local/lib/python3.7/dist-packages/ipykernel_launcher.py:7: SettingWithCopyWarning: \n",
            "A value is trying to be set on a copy of a slice from a DataFrame.\n",
            "Try using .loc[row_indexer,col_indexer] = value instead\n",
            "\n",
            "See the caveats in the documentation: https://pandas.pydata.org/pandas-docs/stable/user_guide/indexing.html#returning-a-view-versus-a-copy\n",
            "  import sys\n"
          ]
        }
      ]
    },
    {
      "cell_type": "code",
      "source": [
        "old_acc_place_2020 = old_acc_place_2020.drop(columns=['사고다발지ID','발생건수'])\n",
        "old_acc_place_2020['sum'] = old_acc_place_2020.iloc[:, 1:6].sum(axis=1)"
      ],
      "metadata": {
        "id": "Rai_1mNQPLNY"
      },
      "id": "Rai_1mNQPLNY",
      "execution_count": null,
      "outputs": []
    },
    {
      "cell_type": "code",
      "source": [
        "groups = old_acc_place_2020.groupby('시도시군구명')"
      ],
      "metadata": {
        "id": "qlJiS_ejRYJA"
      },
      "id": "qlJiS_ejRYJA",
      "execution_count": null,
      "outputs": []
    },
    {
      "cell_type": "code",
      "source": [
        "old_acc_place_2020_sum = old_acc_place_2020.groupby('시도시군구명').sum().reset_index()"
      ],
      "metadata": {
        "id": "vtIBGHcXTzBm"
      },
      "id": "vtIBGHcXTzBm",
      "execution_count": null,
      "outputs": []
    },
    {
      "cell_type": "code",
      "source": [
        "old_acc_place_2020_final = old_acc_place_2020_sum[['시도시군구명', 'sum']]\n",
        "old_acc_place_2020_final.rename(columns={'시도시군구명' : '시도명'}, inplace = True)\n",
        "old_acc_place_2020_final.rename(columns={'sum' : '보행사고다발지역'}, inplace = True)"
      ],
      "metadata": {
        "colab": {
          "base_uri": "https://localhost:8080/"
        },
        "id": "AzeWDKSj0MJg",
        "outputId": "6e33431a-0641-48c4-aab9-f25916c9854d"
      },
      "id": "AzeWDKSj0MJg",
      "execution_count": null,
      "outputs": [
        {
          "output_type": "stream",
          "name": "stderr",
          "text": [
            "/usr/local/lib/python3.7/dist-packages/pandas/core/frame.py:5047: SettingWithCopyWarning: \n",
            "A value is trying to be set on a copy of a slice from a DataFrame\n",
            "\n",
            "See the caveats in the documentation: https://pandas.pydata.org/pandas-docs/stable/user_guide/indexing.html#returning-a-view-versus-a-copy\n",
            "  errors=errors,\n"
          ]
        }
      ]
    },
    {
      "cell_type": "code",
      "source": [
        "old_acc_place_2020_final[\"시도명\"] = old_acc_place_2020_final[\"시도명\"].str[:2]"
      ],
      "metadata": {
        "colab": {
          "base_uri": "https://localhost:8080/"
        },
        "id": "643DUFAkCk2k",
        "outputId": "6a6aa763-519c-47e7-fa92-ddcfb47ae00e"
      },
      "id": "643DUFAkCk2k",
      "execution_count": null,
      "outputs": [
        {
          "output_type": "stream",
          "name": "stderr",
          "text": [
            "/usr/local/lib/python3.7/dist-packages/ipykernel_launcher.py:1: SettingWithCopyWarning: \n",
            "A value is trying to be set on a copy of a slice from a DataFrame.\n",
            "Try using .loc[row_indexer,col_indexer] = value instead\n",
            "\n",
            "See the caveats in the documentation: https://pandas.pydata.org/pandas-docs/stable/user_guide/indexing.html#returning-a-view-versus-a-copy\n",
            "  \"\"\"Entry point for launching an IPython kernel.\n"
          ]
        }
      ]
    },
    {
      "cell_type": "code",
      "source": [
        "old_acc_place_2020_final"
      ],
      "metadata": {
        "colab": {
          "base_uri": "https://localhost:8080/",
          "height": 551
        },
        "id": "hk_BDJFiId6e",
        "outputId": "d1c5c678-86c8-4c78-adb1-e255a5048320"
      },
      "id": "hk_BDJFiId6e",
      "execution_count": null,
      "outputs": [
        {
          "output_type": "execute_result",
          "data": {
            "text/plain": [
              "   시도명  보행사고다발지역\n",
              "0   강원       126\n",
              "1   경기       800\n",
              "2   경남       354\n",
              "3   경북       236\n",
              "4   광주       100\n",
              "5   대구       258\n",
              "6   대전       100\n",
              "7   부산       720\n",
              "8   서울      1330\n",
              "9   울산        60\n",
              "10  인천       162\n",
              "11  전남       202\n",
              "12  전북       224\n",
              "13  제주        80\n",
              "14  충남       172\n",
              "15  충북        92"
            ],
            "text/html": [
              "\n",
              "  <div id=\"df-b90bcf46-05ec-4036-bc58-f7e8d1ba428e\">\n",
              "    <div class=\"colab-df-container\">\n",
              "      <div>\n",
              "<style scoped>\n",
              "    .dataframe tbody tr th:only-of-type {\n",
              "        vertical-align: middle;\n",
              "    }\n",
              "\n",
              "    .dataframe tbody tr th {\n",
              "        vertical-align: top;\n",
              "    }\n",
              "\n",
              "    .dataframe thead th {\n",
              "        text-align: right;\n",
              "    }\n",
              "</style>\n",
              "<table border=\"1\" class=\"dataframe\">\n",
              "  <thead>\n",
              "    <tr style=\"text-align: right;\">\n",
              "      <th></th>\n",
              "      <th>시도명</th>\n",
              "      <th>보행사고다발지역</th>\n",
              "    </tr>\n",
              "  </thead>\n",
              "  <tbody>\n",
              "    <tr>\n",
              "      <th>0</th>\n",
              "      <td>강원</td>\n",
              "      <td>126</td>\n",
              "    </tr>\n",
              "    <tr>\n",
              "      <th>1</th>\n",
              "      <td>경기</td>\n",
              "      <td>800</td>\n",
              "    </tr>\n",
              "    <tr>\n",
              "      <th>2</th>\n",
              "      <td>경남</td>\n",
              "      <td>354</td>\n",
              "    </tr>\n",
              "    <tr>\n",
              "      <th>3</th>\n",
              "      <td>경북</td>\n",
              "      <td>236</td>\n",
              "    </tr>\n",
              "    <tr>\n",
              "      <th>4</th>\n",
              "      <td>광주</td>\n",
              "      <td>100</td>\n",
              "    </tr>\n",
              "    <tr>\n",
              "      <th>5</th>\n",
              "      <td>대구</td>\n",
              "      <td>258</td>\n",
              "    </tr>\n",
              "    <tr>\n",
              "      <th>6</th>\n",
              "      <td>대전</td>\n",
              "      <td>100</td>\n",
              "    </tr>\n",
              "    <tr>\n",
              "      <th>7</th>\n",
              "      <td>부산</td>\n",
              "      <td>720</td>\n",
              "    </tr>\n",
              "    <tr>\n",
              "      <th>8</th>\n",
              "      <td>서울</td>\n",
              "      <td>1330</td>\n",
              "    </tr>\n",
              "    <tr>\n",
              "      <th>9</th>\n",
              "      <td>울산</td>\n",
              "      <td>60</td>\n",
              "    </tr>\n",
              "    <tr>\n",
              "      <th>10</th>\n",
              "      <td>인천</td>\n",
              "      <td>162</td>\n",
              "    </tr>\n",
              "    <tr>\n",
              "      <th>11</th>\n",
              "      <td>전남</td>\n",
              "      <td>202</td>\n",
              "    </tr>\n",
              "    <tr>\n",
              "      <th>12</th>\n",
              "      <td>전북</td>\n",
              "      <td>224</td>\n",
              "    </tr>\n",
              "    <tr>\n",
              "      <th>13</th>\n",
              "      <td>제주</td>\n",
              "      <td>80</td>\n",
              "    </tr>\n",
              "    <tr>\n",
              "      <th>14</th>\n",
              "      <td>충남</td>\n",
              "      <td>172</td>\n",
              "    </tr>\n",
              "    <tr>\n",
              "      <th>15</th>\n",
              "      <td>충북</td>\n",
              "      <td>92</td>\n",
              "    </tr>\n",
              "  </tbody>\n",
              "</table>\n",
              "</div>\n",
              "      <button class=\"colab-df-convert\" onclick=\"convertToInteractive('df-b90bcf46-05ec-4036-bc58-f7e8d1ba428e')\"\n",
              "              title=\"Convert this dataframe to an interactive table.\"\n",
              "              style=\"display:none;\">\n",
              "        \n",
              "  <svg xmlns=\"http://www.w3.org/2000/svg\" height=\"24px\"viewBox=\"0 0 24 24\"\n",
              "       width=\"24px\">\n",
              "    <path d=\"M0 0h24v24H0V0z\" fill=\"none\"/>\n",
              "    <path d=\"M18.56 5.44l.94 2.06.94-2.06 2.06-.94-2.06-.94-.94-2.06-.94 2.06-2.06.94zm-11 1L8.5 8.5l.94-2.06 2.06-.94-2.06-.94L8.5 2.5l-.94 2.06-2.06.94zm10 10l.94 2.06.94-2.06 2.06-.94-2.06-.94-.94-2.06-.94 2.06-2.06.94z\"/><path d=\"M17.41 7.96l-1.37-1.37c-.4-.4-.92-.59-1.43-.59-.52 0-1.04.2-1.43.59L10.3 9.45l-7.72 7.72c-.78.78-.78 2.05 0 2.83L4 21.41c.39.39.9.59 1.41.59.51 0 1.02-.2 1.41-.59l7.78-7.78 2.81-2.81c.8-.78.8-2.07 0-2.86zM5.41 20L4 18.59l7.72-7.72 1.47 1.35L5.41 20z\"/>\n",
              "  </svg>\n",
              "      </button>\n",
              "      \n",
              "  <style>\n",
              "    .colab-df-container {\n",
              "      display:flex;\n",
              "      flex-wrap:wrap;\n",
              "      gap: 12px;\n",
              "    }\n",
              "\n",
              "    .colab-df-convert {\n",
              "      background-color: #E8F0FE;\n",
              "      border: none;\n",
              "      border-radius: 50%;\n",
              "      cursor: pointer;\n",
              "      display: none;\n",
              "      fill: #1967D2;\n",
              "      height: 32px;\n",
              "      padding: 0 0 0 0;\n",
              "      width: 32px;\n",
              "    }\n",
              "\n",
              "    .colab-df-convert:hover {\n",
              "      background-color: #E2EBFA;\n",
              "      box-shadow: 0px 1px 2px rgba(60, 64, 67, 0.3), 0px 1px 3px 1px rgba(60, 64, 67, 0.15);\n",
              "      fill: #174EA6;\n",
              "    }\n",
              "\n",
              "    [theme=dark] .colab-df-convert {\n",
              "      background-color: #3B4455;\n",
              "      fill: #D2E3FC;\n",
              "    }\n",
              "\n",
              "    [theme=dark] .colab-df-convert:hover {\n",
              "      background-color: #434B5C;\n",
              "      box-shadow: 0px 1px 3px 1px rgba(0, 0, 0, 0.15);\n",
              "      filter: drop-shadow(0px 1px 2px rgba(0, 0, 0, 0.3));\n",
              "      fill: #FFFFFF;\n",
              "    }\n",
              "  </style>\n",
              "\n",
              "      <script>\n",
              "        const buttonEl =\n",
              "          document.querySelector('#df-b90bcf46-05ec-4036-bc58-f7e8d1ba428e button.colab-df-convert');\n",
              "        buttonEl.style.display =\n",
              "          google.colab.kernel.accessAllowed ? 'block' : 'none';\n",
              "\n",
              "        async function convertToInteractive(key) {\n",
              "          const element = document.querySelector('#df-b90bcf46-05ec-4036-bc58-f7e8d1ba428e');\n",
              "          const dataTable =\n",
              "            await google.colab.kernel.invokeFunction('convertToInteractive',\n",
              "                                                     [key], {});\n",
              "          if (!dataTable) return;\n",
              "\n",
              "          const docLinkHtml = 'Like what you see? Visit the ' +\n",
              "            '<a target=\"_blank\" href=https://colab.research.google.com/notebooks/data_table.ipynb>data table notebook</a>'\n",
              "            + ' to learn more about interactive tables.';\n",
              "          element.innerHTML = '';\n",
              "          dataTable['output_type'] = 'display_data';\n",
              "          await google.colab.output.renderOutput(dataTable, element);\n",
              "          const docLink = document.createElement('div');\n",
              "          docLink.innerHTML = docLinkHtml;\n",
              "          element.appendChild(docLink);\n",
              "        }\n",
              "      </script>\n",
              "    </div>\n",
              "  </div>\n",
              "  "
            ]
          },
          "metadata": {},
          "execution_count": 32
        }
      ]
    },
    {
      "cell_type": "markdown",
      "source": [
        "## 노인 보호구역"
      ],
      "metadata": {
        "id": "63Es749BW7fi"
      },
      "id": "63Es749BW7fi"
    },
    {
      "cell_type": "code",
      "source": [
        "# 노인 보호구역\n",
        "old_save_place=pd.read_csv('/content/drive/Shareddrives/deepDaiv/dataFile/전국노인장애인보호구역표준데이터.csv', encoding='cp949')"
      ],
      "metadata": {
        "id": "nZiT3h2yVE7t"
      },
      "id": "nZiT3h2yVE7t",
      "execution_count": null,
      "outputs": []
    },
    {
      "cell_type": "code",
      "source": [
        "old_save_place_region = old_save_place['시도명'].reset_index()\n",
        "old_save_place_region = old_save_place_region.drop(columns='index')"
      ],
      "metadata": {
        "id": "FdICB1PHW-Pt"
      },
      "id": "FdICB1PHW-Pt",
      "execution_count": null,
      "outputs": []
    },
    {
      "cell_type": "code",
      "source": [
        "old_save_place_region = old_save_place_region.groupby('시도명').size().reset_index()"
      ],
      "metadata": {
        "id": "zeDyUp-lW-SZ"
      },
      "id": "zeDyUp-lW-SZ",
      "execution_count": null,
      "outputs": []
    },
    {
      "cell_type": "code",
      "source": [
        "old_save_place_region[\"시도명\"] = old_save_place_region[\"시도명\"].str.replace(\"경상북도\", '경북')\n",
        "old_save_place_region[\"시도명\"] = old_save_place_region[\"시도명\"].str.replace(\"경상남도\", '경남')\n",
        "old_save_place_region[\"시도명\"] = old_save_place_region[\"시도명\"].str.replace(\"전라북도\", '전북')\n",
        "old_save_place_region[\"시도명\"] = old_save_place_region[\"시도명\"].str.replace(\"전라남도\", '전남')\n",
        "old_save_place_region[\"시도명\"] = old_save_place_region[\"시도명\"].str.replace(\"충청북도\", '충북')\n",
        "old_save_place_region[\"시도명\"] = old_save_place_region[\"시도명\"].str.replace(\"충청남도\", '충남')\n",
        "old_save_place_region[\"시도명\"] = old_save_place_region[\"시도명\"].str[:2]"
      ],
      "metadata": {
        "id": "-5ZmhrynW-UV"
      },
      "id": "-5ZmhrynW-UV",
      "execution_count": null,
      "outputs": []
    },
    {
      "cell_type": "code",
      "source": [
        "old_save_place_region.rename(columns={0 : '노인보호구역'}, inplace = True)"
      ],
      "metadata": {
        "id": "n9YchS88W-WG"
      },
      "id": "n9YchS88W-WG",
      "execution_count": null,
      "outputs": []
    },
    {
      "cell_type": "markdown",
      "source": [
        "## 보행자전용도로"
      ],
      "metadata": {
        "id": "vBp-8E989L_i"
      },
      "id": "vBp-8E989L_i"
    },
    {
      "cell_type": "code",
      "source": [
        "# 보행자 전용 도로\n",
        "pedestrian=pd.read_csv('/content/drive/Shareddrives/deepDaiv/dataFile/전국보행자전용도로표준데이터.csv', encoding='cp949')"
      ],
      "metadata": {
        "id": "-ST4LKl_W-af"
      },
      "id": "-ST4LKl_W-af",
      "execution_count": null,
      "outputs": []
    },
    {
      "cell_type": "code",
      "source": [
        "pedestrian_city = pedestrian['시도명'].reset_index()\n",
        "pedestrian_city = pedestrian_city.drop(columns='index')\n",
        "pedestrian_city = pedestrian_city.groupby('시도명').size().reset_index()"
      ],
      "metadata": {
        "id": "8wnvI5Vh9H44"
      },
      "id": "8wnvI5Vh9H44",
      "execution_count": null,
      "outputs": []
    },
    {
      "cell_type": "code",
      "source": [
        "pedestrian_city[\"시도명\"] = pedestrian_city[\"시도명\"].str.replace(\"경상북도\", '경북')\n",
        "pedestrian_city[\"시도명\"] = pedestrian_city[\"시도명\"].str.replace(\"경상남도\", '경남')\n",
        "pedestrian_city[\"시도명\"] = pedestrian_city[\"시도명\"].str.replace(\"전라북도\", '전북')\n",
        "pedestrian_city[\"시도명\"] = pedestrian_city[\"시도명\"].str.replace(\"전라남도\", '전남')\n",
        "pedestrian_city[\"시도명\"] = pedestrian_city[\"시도명\"].str.replace(\"충청북도\", '충북')\n",
        "pedestrian_city[\"시도명\"] = pedestrian_city[\"시도명\"].str.replace(\"충청남도\", '충남')\n",
        "pedestrian_city[\"시도명\"] = pedestrian_city[\"시도명\"].str[:2]"
      ],
      "metadata": {
        "id": "YGat7V2W9H7s"
      },
      "id": "YGat7V2W9H7s",
      "execution_count": null,
      "outputs": []
    },
    {
      "cell_type": "code",
      "source": [
        "pedestrian_city.rename(columns={0 : '보행자전용도로'}, inplace = True)"
      ],
      "metadata": {
        "id": "i2yKRWLe9H-I"
      },
      "id": "i2yKRWLe9H-I",
      "execution_count": null,
      "outputs": []
    },
    {
      "cell_type": "markdown",
      "source": [
        "## 전국횡단보도표준데이터"
      ],
      "metadata": {
        "id": "NXLHhQ9F-ncv"
      },
      "id": "NXLHhQ9F-ncv"
    },
    {
      "cell_type": "code",
      "source": [
        "# 횡단보도\n",
        "crosswalk = pd.read_csv('/content/drive/Shareddrives/deepDaiv/dataFile/전국횡단보도표준데이터.csv', encoding='cp949')"
      ],
      "metadata": {
        "id": "6IURwfNJ9ICC"
      },
      "id": "6IURwfNJ9ICC",
      "execution_count": null,
      "outputs": []
    },
    {
      "cell_type": "code",
      "source": [
        "crosswalk_city = crosswalk['시도명'].reset_index()\n",
        "crosswalk_city = crosswalk_city.drop(columns='index')\n",
        "crosswalk_city = crosswalk_city.groupby('시도명').size().reset_index()"
      ],
      "metadata": {
        "id": "5J_XhylL-tg2"
      },
      "id": "5J_XhylL-tg2",
      "execution_count": null,
      "outputs": []
    },
    {
      "cell_type": "code",
      "source": [
        "crosswalk_city[\"시도명\"] = crosswalk_city[\"시도명\"].str.replace(\"경상북도\", '경북')\n",
        "crosswalk_city[\"시도명\"] = crosswalk_city[\"시도명\"].str.replace(\"경상남도\", '경남')\n",
        "crosswalk_city[\"시도명\"] = crosswalk_city[\"시도명\"].str.replace(\"전라북도\", '전북')\n",
        "crosswalk_city[\"시도명\"] = crosswalk_city[\"시도명\"].str.replace(\"전라남도\", '전남')\n",
        "crosswalk_city[\"시도명\"] = crosswalk_city[\"시도명\"].str.replace(\"충청북도\", '충북')\n",
        "crosswalk_city[\"시도명\"] = crosswalk_city[\"시도명\"].str.replace(\"충청남도\", '충남')\n",
        "crosswalk_city[\"시도명\"] = crosswalk_city[\"시도명\"].str[:2]"
      ],
      "metadata": {
        "id": "scKf5Wli-9jw"
      },
      "id": "scKf5Wli-9jw",
      "execution_count": null,
      "outputs": []
    },
    {
      "cell_type": "code",
      "source": [
        "crosswalk_city.rename(columns={0 : '전국횡단보도'}, inplace = True)"
      ],
      "metadata": {
        "id": "1d0BLQX0-9md"
      },
      "id": "1d0BLQX0-9md",
      "execution_count": null,
      "outputs": []
    },
    {
      "cell_type": "markdown",
      "source": [
        "## 전국교통안전지수"
      ],
      "metadata": {
        "id": "fahQhQcyy1rm"
      },
      "id": "fahQhQcyy1rm"
    },
    {
      "cell_type": "code",
      "source": [
        "saftey_score = pd.read_excel('/content/drive/Shareddrives/deepDaiv/dataFile/전국교통안전지수.xls')"
      ],
      "metadata": {
        "id": "bO4nfrMIy2Dw"
      },
      "id": "bO4nfrMIy2Dw",
      "execution_count": null,
      "outputs": []
    },
    {
      "cell_type": "code",
      "source": [
        "saftey_score.rename(columns={'시도' : '시도명'}, inplace = True)"
      ],
      "metadata": {
        "id": "L-bdXb0wy2Ft"
      },
      "id": "L-bdXb0wy2Ft",
      "execution_count": null,
      "outputs": []
    },
    {
      "cell_type": "markdown",
      "source": [
        "## 데이터프레임 합치기"
      ],
      "metadata": {
        "id": "wdIrpPMg_PY1"
      },
      "id": "wdIrpPMg_PY1"
    },
    {
      "cell_type": "code",
      "source": [
        "elderly_df = pd.merge(left = old_num_of_people_edit, right = old_accident_final, how = \"left\", on = \"시도명\")"
      ],
      "metadata": {
        "id": "PtMk6fIj-9rn"
      },
      "id": "PtMk6fIj-9rn",
      "execution_count": null,
      "outputs": []
    },
    {
      "cell_type": "code",
      "source": [
        "elderly_df = pd.merge(left = elderly_df, right = old_acc_place_2020_final, how = \"left\", on = \"시도명\")"
      ],
      "metadata": {
        "id": "VHHvHxPHG5kq"
      },
      "id": "VHHvHxPHG5kq",
      "execution_count": null,
      "outputs": []
    },
    {
      "cell_type": "code",
      "source": [
        "elderly_df = pd.merge(left = elderly_df, right = old_save_place_region, how = \"left\", on = \"시도명\")"
      ],
      "metadata": {
        "id": "qO52EZT8-9uM"
      },
      "id": "qO52EZT8-9uM",
      "execution_count": null,
      "outputs": []
    },
    {
      "cell_type": "code",
      "source": [
        "elderly_df = pd.merge(left = elderly_df, right = pedestrian_city, how = \"left\", on = \"시도명\")"
      ],
      "metadata": {
        "id": "F6YtnM43C-PI"
      },
      "id": "F6YtnM43C-PI",
      "execution_count": null,
      "outputs": []
    },
    {
      "cell_type": "code",
      "source": [
        "elderly_df = pd.merge(left = elderly_df, right = crosswalk_city, how = \"left\", on = \"시도명\")"
      ],
      "metadata": {
        "id": "hX28MLk9C-Tl"
      },
      "id": "hX28MLk9C-Tl",
      "execution_count": null,
      "outputs": []
    },
    {
      "cell_type": "code",
      "source": [
        "elderly_df = pd.merge(left = elderly_df, right = saftey_score, how = \"left\", on = \"시도명\")"
      ],
      "metadata": {
        "id": "gCAHmKfG0JHn"
      },
      "id": "gCAHmKfG0JHn",
      "execution_count": null,
      "outputs": []
    },
    {
      "cell_type": "code",
      "source": [
        "elderly_df = elderly_df.fillna(0)"
      ],
      "metadata": {
        "id": "TD2mbWe2CecC"
      },
      "id": "TD2mbWe2CecC",
      "execution_count": null,
      "outputs": []
    },
    {
      "cell_type": "code",
      "source": [
        "elderly_df['보행사고다발지역'] = elderly_df['보행사고다발지역'].astype('int')"
      ],
      "metadata": {
        "id": "ho9VvXbuDYsm"
      },
      "id": "ho9VvXbuDYsm",
      "execution_count": null,
      "outputs": []
    },
    {
      "cell_type": "code",
      "source": [
        "elderly_df['노인보호구역'] = elderly_df['노인보호구역'].astype('int')"
      ],
      "metadata": {
        "id": "xfvzc6y5DpDD"
      },
      "id": "xfvzc6y5DpDD",
      "execution_count": null,
      "outputs": []
    },
    {
      "cell_type": "code",
      "source": [
        "elderly_df['보행자전용도로'] = elderly_df['보행자전용도로'].astype('int')"
      ],
      "metadata": {
        "id": "quN9ZzbeDpRI"
      },
      "id": "quN9ZzbeDpRI",
      "execution_count": null,
      "outputs": []
    },
    {
      "cell_type": "code",
      "source": [
        "elderly_df['전국횡단보도'] = elderly_df['전국횡단보도'].astype('int')"
      ],
      "metadata": {
        "id": "zNwbsqyjDpWA"
      },
      "id": "zNwbsqyjDpWA",
      "execution_count": null,
      "outputs": []
    },
    {
      "cell_type": "markdown",
      "source": [
        "#### 전국 횡단보도 데이터 취합해서 수정하기"
      ],
      "metadata": {
        "id": "qgdhl2LBDtQV"
      },
      "id": "qgdhl2LBDtQV"
    },
    {
      "cell_type": "code",
      "source": [
        "# 서울\n",
        "elderly_df.loc[0, '전국횡단보도'] = 37892\n",
        "# 부산\n",
        "elderly_df.loc[1, '전국횡단보도'] = 12571\n",
        "# 대구\n",
        "elderly_df.loc[2, '전국횡단보도'] = 16552\n",
        "# 대전\n",
        "elderly_df.loc[5, '전국횡단보도'] = 12468\n",
        "# 경기\n",
        "elderly_df.loc[8, '전국횡단보도'] = 40653\n",
        "# 강원\n",
        "elderly_df.loc[9, '전국횡단보도'] = 2898\n",
        "# 충북\n",
        "elderly_df.loc[10, '전국횡단보도'] = 1096\n",
        "# 경북\n",
        "elderly_df.loc[14, '전국횡단보도'] = 5557"
      ],
      "metadata": {
        "id": "mNF1LHJUGvZf"
      },
      "id": "mNF1LHJUGvZf",
      "execution_count": null,
      "outputs": []
    },
    {
      "cell_type": "code",
      "source": [
        "# 제주\n",
        "elderly_df.loc[16, '전국횡단보도'] = 3408\n",
        "# 울산\n",
        "elderly_df.loc[6, '전국횡단보도'] = 2054"
      ],
      "metadata": {
        "id": "lQ86x1rgmsP8"
      },
      "id": "lQ86x1rgmsP8",
      "execution_count": null,
      "outputs": []
    },
    {
      "cell_type": "code",
      "source": [
        "# 광주\n",
        "elderly_df.loc[4, '전국횡단보도'] = 920"
      ],
      "metadata": {
        "id": "2aiUZxh1w_sQ"
      },
      "id": "2aiUZxh1w_sQ",
      "execution_count": null,
      "outputs": []
    },
    {
      "cell_type": "markdown",
      "source": [
        "#### 전국 보행자전용도로 데이터 취합해서 수정하기"
      ],
      "metadata": {
        "id": "MtgIE3PSDz71"
      },
      "id": "MtgIE3PSDz71"
    },
    {
      "cell_type": "code",
      "source": [
        "# 부산\n",
        "elderly_df.loc[1, '보행자전용도로'] = 78\n",
        "# 광주\n",
        "elderly_df.loc[4, '보행자전용도로'] = 2\n",
        "# 강원\n",
        "elderly_df.loc[9, '보행자전용도로'] = 5\n",
        "# 충남\n",
        "elderly_df.loc[11, '보행자전용도로'] = 2\n",
        "# 경남\n",
        "elderly_df.loc[15, '보행자전용도로'] = 2"
      ],
      "metadata": {
        "id": "Qr8pIYDwDr2t"
      },
      "id": "Qr8pIYDwDr2t",
      "execution_count": null,
      "outputs": []
    },
    {
      "cell_type": "code",
      "source": [
        "elderly_df"
      ],
      "metadata": {
        "colab": {
          "base_uri": "https://localhost:8080/",
          "height": 582
        },
        "id": "ea2s0mzpHNvI",
        "outputId": "750eb33a-ed3b-439d-9120-038dcd8d6314"
      },
      "id": "ea2s0mzpHNvI",
      "execution_count": null,
      "outputs": [
        {
          "output_type": "execute_result",
          "data": {
            "text/plain": [
              "   시도명  2020  교통사고건수  보행사고다발지역  노인보호구역  보행자전용도로  전국횡단보도   보행자_점수  교통약자_점수  \\\n",
              "0   서울  1480    5365      1330     147       90   37892  1909.46  2024.79   \n",
              "1   부산   625    2304       720      43       78   12571  1255.04  1295.24   \n",
              "2   대구   388    2187       258      23        7   16552   599.93   602.45   \n",
              "3   인천   397    1096       162      98      375    1255   713.76   731.70   \n",
              "4   광주   204    1145       100      50        2     920   402.11   390.03   \n",
              "5   대전   206    1229       100      91      369   12468   394.59   393.46   \n",
              "6   울산   137     601        60      39       11    2054   403.48   417.24   \n",
              "7   세종    32     122         0       5        0      48    82.57    84.02   \n",
              "8   경기  1709    7836       800     344      496   40653  2402.03  2393.15   \n",
              "9   강원   302    1637       126      83        5    2898  1472.43  1487.43   \n",
              "10  충북   277    1874        92     221      509    1096   889.15   870.95   \n",
              "11  충남   389    2135       172     569        2    4302  1191.77  1133.95   \n",
              "12  전북   369    1902       224      27       62    5200  1113.09  1109.48   \n",
              "13  전남   408    3117       202      46       22    1635  1777.66  1734.50   \n",
              "14  경북   549    3480       236     173       25    5557  1739.88  1666.04   \n",
              "15  경남   554    2772       354      76        2    5098  1441.43  1439.75   \n",
              "16  제주   101     687        80     105        2    3408   139.21   146.86   \n",
              "\n",
              "    도로환경_점수    전체_점수  \n",
              "0   1996.74  1959.39  \n",
              "1   1309.64  1286.37  \n",
              "2    595.50   601.57  \n",
              "3    743.86   727.20  \n",
              "4    392.84   391.29  \n",
              "5    393.16   394.50  \n",
              "6    409.45   405.19  \n",
              "7     84.07    82.48  \n",
              "8   2312.95  2341.27  \n",
              "9   1515.83  1488.24  \n",
              "10   872.57   880.72  \n",
              "11  1159.41  1176.65  \n",
              "12  1103.31  1112.46  \n",
              "13  1762.47  1767.96  \n",
              "14  1712.26  1727.93  \n",
              "15  1423.01  1438.35  \n",
              "16   135.23   144.48  "
            ],
            "text/html": [
              "\n",
              "  <div id=\"df-daa3866b-d4c7-44d4-a59d-066859833e58\">\n",
              "    <div class=\"colab-df-container\">\n",
              "      <div>\n",
              "<style scoped>\n",
              "    .dataframe tbody tr th:only-of-type {\n",
              "        vertical-align: middle;\n",
              "    }\n",
              "\n",
              "    .dataframe tbody tr th {\n",
              "        vertical-align: top;\n",
              "    }\n",
              "\n",
              "    .dataframe thead th {\n",
              "        text-align: right;\n",
              "    }\n",
              "</style>\n",
              "<table border=\"1\" class=\"dataframe\">\n",
              "  <thead>\n",
              "    <tr style=\"text-align: right;\">\n",
              "      <th></th>\n",
              "      <th>시도명</th>\n",
              "      <th>2020</th>\n",
              "      <th>교통사고건수</th>\n",
              "      <th>보행사고다발지역</th>\n",
              "      <th>노인보호구역</th>\n",
              "      <th>보행자전용도로</th>\n",
              "      <th>전국횡단보도</th>\n",
              "      <th>보행자_점수</th>\n",
              "      <th>교통약자_점수</th>\n",
              "      <th>도로환경_점수</th>\n",
              "      <th>전체_점수</th>\n",
              "    </tr>\n",
              "  </thead>\n",
              "  <tbody>\n",
              "    <tr>\n",
              "      <th>0</th>\n",
              "      <td>서울</td>\n",
              "      <td>1480</td>\n",
              "      <td>5365</td>\n",
              "      <td>1330</td>\n",
              "      <td>147</td>\n",
              "      <td>90</td>\n",
              "      <td>37892</td>\n",
              "      <td>1909.46</td>\n",
              "      <td>2024.79</td>\n",
              "      <td>1996.74</td>\n",
              "      <td>1959.39</td>\n",
              "    </tr>\n",
              "    <tr>\n",
              "      <th>1</th>\n",
              "      <td>부산</td>\n",
              "      <td>625</td>\n",
              "      <td>2304</td>\n",
              "      <td>720</td>\n",
              "      <td>43</td>\n",
              "      <td>78</td>\n",
              "      <td>12571</td>\n",
              "      <td>1255.04</td>\n",
              "      <td>1295.24</td>\n",
              "      <td>1309.64</td>\n",
              "      <td>1286.37</td>\n",
              "    </tr>\n",
              "    <tr>\n",
              "      <th>2</th>\n",
              "      <td>대구</td>\n",
              "      <td>388</td>\n",
              "      <td>2187</td>\n",
              "      <td>258</td>\n",
              "      <td>23</td>\n",
              "      <td>7</td>\n",
              "      <td>16552</td>\n",
              "      <td>599.93</td>\n",
              "      <td>602.45</td>\n",
              "      <td>595.50</td>\n",
              "      <td>601.57</td>\n",
              "    </tr>\n",
              "    <tr>\n",
              "      <th>3</th>\n",
              "      <td>인천</td>\n",
              "      <td>397</td>\n",
              "      <td>1096</td>\n",
              "      <td>162</td>\n",
              "      <td>98</td>\n",
              "      <td>375</td>\n",
              "      <td>1255</td>\n",
              "      <td>713.76</td>\n",
              "      <td>731.70</td>\n",
              "      <td>743.86</td>\n",
              "      <td>727.20</td>\n",
              "    </tr>\n",
              "    <tr>\n",
              "      <th>4</th>\n",
              "      <td>광주</td>\n",
              "      <td>204</td>\n",
              "      <td>1145</td>\n",
              "      <td>100</td>\n",
              "      <td>50</td>\n",
              "      <td>2</td>\n",
              "      <td>920</td>\n",
              "      <td>402.11</td>\n",
              "      <td>390.03</td>\n",
              "      <td>392.84</td>\n",
              "      <td>391.29</td>\n",
              "    </tr>\n",
              "    <tr>\n",
              "      <th>5</th>\n",
              "      <td>대전</td>\n",
              "      <td>206</td>\n",
              "      <td>1229</td>\n",
              "      <td>100</td>\n",
              "      <td>91</td>\n",
              "      <td>369</td>\n",
              "      <td>12468</td>\n",
              "      <td>394.59</td>\n",
              "      <td>393.46</td>\n",
              "      <td>393.16</td>\n",
              "      <td>394.50</td>\n",
              "    </tr>\n",
              "    <tr>\n",
              "      <th>6</th>\n",
              "      <td>울산</td>\n",
              "      <td>137</td>\n",
              "      <td>601</td>\n",
              "      <td>60</td>\n",
              "      <td>39</td>\n",
              "      <td>11</td>\n",
              "      <td>2054</td>\n",
              "      <td>403.48</td>\n",
              "      <td>417.24</td>\n",
              "      <td>409.45</td>\n",
              "      <td>405.19</td>\n",
              "    </tr>\n",
              "    <tr>\n",
              "      <th>7</th>\n",
              "      <td>세종</td>\n",
              "      <td>32</td>\n",
              "      <td>122</td>\n",
              "      <td>0</td>\n",
              "      <td>5</td>\n",
              "      <td>0</td>\n",
              "      <td>48</td>\n",
              "      <td>82.57</td>\n",
              "      <td>84.02</td>\n",
              "      <td>84.07</td>\n",
              "      <td>82.48</td>\n",
              "    </tr>\n",
              "    <tr>\n",
              "      <th>8</th>\n",
              "      <td>경기</td>\n",
              "      <td>1709</td>\n",
              "      <td>7836</td>\n",
              "      <td>800</td>\n",
              "      <td>344</td>\n",
              "      <td>496</td>\n",
              "      <td>40653</td>\n",
              "      <td>2402.03</td>\n",
              "      <td>2393.15</td>\n",
              "      <td>2312.95</td>\n",
              "      <td>2341.27</td>\n",
              "    </tr>\n",
              "    <tr>\n",
              "      <th>9</th>\n",
              "      <td>강원</td>\n",
              "      <td>302</td>\n",
              "      <td>1637</td>\n",
              "      <td>126</td>\n",
              "      <td>83</td>\n",
              "      <td>5</td>\n",
              "      <td>2898</td>\n",
              "      <td>1472.43</td>\n",
              "      <td>1487.43</td>\n",
              "      <td>1515.83</td>\n",
              "      <td>1488.24</td>\n",
              "    </tr>\n",
              "    <tr>\n",
              "      <th>10</th>\n",
              "      <td>충북</td>\n",
              "      <td>277</td>\n",
              "      <td>1874</td>\n",
              "      <td>92</td>\n",
              "      <td>221</td>\n",
              "      <td>509</td>\n",
              "      <td>1096</td>\n",
              "      <td>889.15</td>\n",
              "      <td>870.95</td>\n",
              "      <td>872.57</td>\n",
              "      <td>880.72</td>\n",
              "    </tr>\n",
              "    <tr>\n",
              "      <th>11</th>\n",
              "      <td>충남</td>\n",
              "      <td>389</td>\n",
              "      <td>2135</td>\n",
              "      <td>172</td>\n",
              "      <td>569</td>\n",
              "      <td>2</td>\n",
              "      <td>4302</td>\n",
              "      <td>1191.77</td>\n",
              "      <td>1133.95</td>\n",
              "      <td>1159.41</td>\n",
              "      <td>1176.65</td>\n",
              "    </tr>\n",
              "    <tr>\n",
              "      <th>12</th>\n",
              "      <td>전북</td>\n",
              "      <td>369</td>\n",
              "      <td>1902</td>\n",
              "      <td>224</td>\n",
              "      <td>27</td>\n",
              "      <td>62</td>\n",
              "      <td>5200</td>\n",
              "      <td>1113.09</td>\n",
              "      <td>1109.48</td>\n",
              "      <td>1103.31</td>\n",
              "      <td>1112.46</td>\n",
              "    </tr>\n",
              "    <tr>\n",
              "      <th>13</th>\n",
              "      <td>전남</td>\n",
              "      <td>408</td>\n",
              "      <td>3117</td>\n",
              "      <td>202</td>\n",
              "      <td>46</td>\n",
              "      <td>22</td>\n",
              "      <td>1635</td>\n",
              "      <td>1777.66</td>\n",
              "      <td>1734.50</td>\n",
              "      <td>1762.47</td>\n",
              "      <td>1767.96</td>\n",
              "    </tr>\n",
              "    <tr>\n",
              "      <th>14</th>\n",
              "      <td>경북</td>\n",
              "      <td>549</td>\n",
              "      <td>3480</td>\n",
              "      <td>236</td>\n",
              "      <td>173</td>\n",
              "      <td>25</td>\n",
              "      <td>5557</td>\n",
              "      <td>1739.88</td>\n",
              "      <td>1666.04</td>\n",
              "      <td>1712.26</td>\n",
              "      <td>1727.93</td>\n",
              "    </tr>\n",
              "    <tr>\n",
              "      <th>15</th>\n",
              "      <td>경남</td>\n",
              "      <td>554</td>\n",
              "      <td>2772</td>\n",
              "      <td>354</td>\n",
              "      <td>76</td>\n",
              "      <td>2</td>\n",
              "      <td>5098</td>\n",
              "      <td>1441.43</td>\n",
              "      <td>1439.75</td>\n",
              "      <td>1423.01</td>\n",
              "      <td>1438.35</td>\n",
              "    </tr>\n",
              "    <tr>\n",
              "      <th>16</th>\n",
              "      <td>제주</td>\n",
              "      <td>101</td>\n",
              "      <td>687</td>\n",
              "      <td>80</td>\n",
              "      <td>105</td>\n",
              "      <td>2</td>\n",
              "      <td>3408</td>\n",
              "      <td>139.21</td>\n",
              "      <td>146.86</td>\n",
              "      <td>135.23</td>\n",
              "      <td>144.48</td>\n",
              "    </tr>\n",
              "  </tbody>\n",
              "</table>\n",
              "</div>\n",
              "      <button class=\"colab-df-convert\" onclick=\"convertToInteractive('df-daa3866b-d4c7-44d4-a59d-066859833e58')\"\n",
              "              title=\"Convert this dataframe to an interactive table.\"\n",
              "              style=\"display:none;\">\n",
              "        \n",
              "  <svg xmlns=\"http://www.w3.org/2000/svg\" height=\"24px\"viewBox=\"0 0 24 24\"\n",
              "       width=\"24px\">\n",
              "    <path d=\"M0 0h24v24H0V0z\" fill=\"none\"/>\n",
              "    <path d=\"M18.56 5.44l.94 2.06.94-2.06 2.06-.94-2.06-.94-.94-2.06-.94 2.06-2.06.94zm-11 1L8.5 8.5l.94-2.06 2.06-.94-2.06-.94L8.5 2.5l-.94 2.06-2.06.94zm10 10l.94 2.06.94-2.06 2.06-.94-2.06-.94-.94-2.06-.94 2.06-2.06.94z\"/><path d=\"M17.41 7.96l-1.37-1.37c-.4-.4-.92-.59-1.43-.59-.52 0-1.04.2-1.43.59L10.3 9.45l-7.72 7.72c-.78.78-.78 2.05 0 2.83L4 21.41c.39.39.9.59 1.41.59.51 0 1.02-.2 1.41-.59l7.78-7.78 2.81-2.81c.8-.78.8-2.07 0-2.86zM5.41 20L4 18.59l7.72-7.72 1.47 1.35L5.41 20z\"/>\n",
              "  </svg>\n",
              "      </button>\n",
              "      \n",
              "  <style>\n",
              "    .colab-df-container {\n",
              "      display:flex;\n",
              "      flex-wrap:wrap;\n",
              "      gap: 12px;\n",
              "    }\n",
              "\n",
              "    .colab-df-convert {\n",
              "      background-color: #E8F0FE;\n",
              "      border: none;\n",
              "      border-radius: 50%;\n",
              "      cursor: pointer;\n",
              "      display: none;\n",
              "      fill: #1967D2;\n",
              "      height: 32px;\n",
              "      padding: 0 0 0 0;\n",
              "      width: 32px;\n",
              "    }\n",
              "\n",
              "    .colab-df-convert:hover {\n",
              "      background-color: #E2EBFA;\n",
              "      box-shadow: 0px 1px 2px rgba(60, 64, 67, 0.3), 0px 1px 3px 1px rgba(60, 64, 67, 0.15);\n",
              "      fill: #174EA6;\n",
              "    }\n",
              "\n",
              "    [theme=dark] .colab-df-convert {\n",
              "      background-color: #3B4455;\n",
              "      fill: #D2E3FC;\n",
              "    }\n",
              "\n",
              "    [theme=dark] .colab-df-convert:hover {\n",
              "      background-color: #434B5C;\n",
              "      box-shadow: 0px 1px 3px 1px rgba(0, 0, 0, 0.15);\n",
              "      filter: drop-shadow(0px 1px 2px rgba(0, 0, 0, 0.3));\n",
              "      fill: #FFFFFF;\n",
              "    }\n",
              "  </style>\n",
              "\n",
              "      <script>\n",
              "        const buttonEl =\n",
              "          document.querySelector('#df-daa3866b-d4c7-44d4-a59d-066859833e58 button.colab-df-convert');\n",
              "        buttonEl.style.display =\n",
              "          google.colab.kernel.accessAllowed ? 'block' : 'none';\n",
              "\n",
              "        async function convertToInteractive(key) {\n",
              "          const element = document.querySelector('#df-daa3866b-d4c7-44d4-a59d-066859833e58');\n",
              "          const dataTable =\n",
              "            await google.colab.kernel.invokeFunction('convertToInteractive',\n",
              "                                                     [key], {});\n",
              "          if (!dataTable) return;\n",
              "\n",
              "          const docLinkHtml = 'Like what you see? Visit the ' +\n",
              "            '<a target=\"_blank\" href=https://colab.research.google.com/notebooks/data_table.ipynb>data table notebook</a>'\n",
              "            + ' to learn more about interactive tables.';\n",
              "          element.innerHTML = '';\n",
              "          dataTable['output_type'] = 'display_data';\n",
              "          await google.colab.output.renderOutput(dataTable, element);\n",
              "          const docLink = document.createElement('div');\n",
              "          docLink.innerHTML = docLinkHtml;\n",
              "          element.appendChild(docLink);\n",
              "        }\n",
              "      </script>\n",
              "    </div>\n",
              "  </div>\n",
              "  "
            ]
          },
          "metadata": {},
          "execution_count": 63
        }
      ]
    },
    {
      "cell_type": "code",
      "source": [
        "elderly_df_scaling = elderly_df"
      ],
      "metadata": {
        "id": "HGlgK1kmEuJD"
      },
      "id": "HGlgK1kmEuJD",
      "execution_count": null,
      "outputs": []
    },
    {
      "cell_type": "code",
      "source": [
        "elderly_df_scaling[2020] = elderly_df_scaling[2020] * 1000"
      ],
      "metadata": {
        "id": "LRyadY3qExWS"
      },
      "id": "LRyadY3qExWS",
      "execution_count": null,
      "outputs": []
    },
    {
      "cell_type": "code",
      "source": [
        "elderly_df_scaling['교통사고건수'] = elderly_df_scaling['교통사고건수'] / elderly_df_scaling[2020] * 1000"
      ],
      "metadata": {
        "id": "5lyr_oFjExYN"
      },
      "id": "5lyr_oFjExYN",
      "execution_count": null,
      "outputs": []
    },
    {
      "cell_type": "code",
      "source": [
        "elderly_df_scaling['보행사고다발지역'] = elderly_df_scaling['보행사고다발지역'] / elderly_df_scaling[2020] * 1000"
      ],
      "metadata": {
        "id": "yE0Y-qLHJiYA"
      },
      "id": "yE0Y-qLHJiYA",
      "execution_count": null,
      "outputs": []
    },
    {
      "cell_type": "code",
      "source": [
        "elderly_df_scaling['노인보호구역'] = elderly_df_scaling['노인보호구역'] / elderly_df_scaling[2020] * 1000"
      ],
      "metadata": {
        "id": "VRc22C-jJY6U"
      },
      "id": "VRc22C-jJY6U",
      "execution_count": null,
      "outputs": []
    },
    {
      "cell_type": "code",
      "source": [
        "elderly_df_scaling['보행자전용도로'] = elderly_df_scaling['보행자전용도로'] / elderly_df_scaling[2020] * 1000"
      ],
      "metadata": {
        "id": "ywiFo_mLJZB1"
      },
      "id": "ywiFo_mLJZB1",
      "execution_count": null,
      "outputs": []
    },
    {
      "cell_type": "code",
      "source": [
        "elderly_df_scaling['전국횡단보도'] = elderly_df_scaling['전국횡단보도'] / elderly_df_scaling[2020] * 1000"
      ],
      "metadata": {
        "id": "Xh5tOr0HJZPN"
      },
      "id": "Xh5tOr0HJZPN",
      "execution_count": null,
      "outputs": []
    },
    {
      "cell_type": "code",
      "source": [
        "elderly_df_scaling[2020] = elderly_df_scaling[2020] / 1000"
      ],
      "metadata": {
        "id": "-Y_x2rHhKKtG"
      },
      "id": "-Y_x2rHhKKtG",
      "execution_count": null,
      "outputs": []
    },
    {
      "cell_type": "code",
      "source": [
        "elderly_df_scaling"
      ],
      "metadata": {
        "colab": {
          "base_uri": "https://localhost:8080/",
          "height": 582
        },
        "id": "2UhH3Y1JExaE",
        "outputId": "fe3ee93c-8858-47ad-e006-573f1d25d8f5"
      },
      "id": "2UhH3Y1JExaE",
      "execution_count": null,
      "outputs": [
        {
          "output_type": "execute_result",
          "data": {
            "text/plain": [
              "   시도명    2020    교통사고건수  보행사고다발지역    노인보호구역   보행자전용도로     전국횡단보도   보행자_점수  \\\n",
              "0   서울  1480.0  3.625000  0.898649  0.099324  0.060811  25.602703  1909.46   \n",
              "1   부산   625.0  3.686400  1.152000  0.068800  0.124800  20.113600  1255.04   \n",
              "2   대구   388.0  5.636598  0.664948  0.059278  0.018041  42.659794   599.93   \n",
              "3   인천   397.0  2.760705  0.408060  0.246851  0.944584   3.161209   713.76   \n",
              "4   광주   204.0  5.612745  0.490196  0.245098  0.009804   4.509804   402.11   \n",
              "5   대전   206.0  5.966019  0.485437  0.441748  1.791262  60.524272   394.59   \n",
              "6   울산   137.0  4.386861  0.437956  0.284672  0.080292  14.992701   403.48   \n",
              "7   세종    32.0  3.812500  0.000000  0.156250  0.000000   1.500000    82.57   \n",
              "8   경기  1709.0  4.585138  0.468110  0.201287  0.290228  23.787595  2402.03   \n",
              "9   강원   302.0  5.420530  0.417219  0.274834  0.016556   9.596026  1472.43   \n",
              "10  충북   277.0  6.765343  0.332130  0.797834  1.837545   3.956679   889.15   \n",
              "11  충남   389.0  5.488432  0.442159  1.462725  0.005141  11.059126  1191.77   \n",
              "12  전북   369.0  5.154472  0.607046  0.073171  0.168022  14.092141  1113.09   \n",
              "13  전남   408.0  7.639706  0.495098  0.112745  0.053922   4.007353  1777.66   \n",
              "14  경북   549.0  6.338798  0.429872  0.315118  0.045537  10.122040  1739.88   \n",
              "15  경남   554.0  5.003610  0.638989  0.137184  0.003610   9.202166  1441.43   \n",
              "16  제주   101.0  6.801980  0.792079  1.039604  0.019802  33.742574   139.21   \n",
              "\n",
              "    교통약자_점수  도로환경_점수    전체_점수  \n",
              "0   2024.79  1996.74  1959.39  \n",
              "1   1295.24  1309.64  1286.37  \n",
              "2    602.45   595.50   601.57  \n",
              "3    731.70   743.86   727.20  \n",
              "4    390.03   392.84   391.29  \n",
              "5    393.46   393.16   394.50  \n",
              "6    417.24   409.45   405.19  \n",
              "7     84.02    84.07    82.48  \n",
              "8   2393.15  2312.95  2341.27  \n",
              "9   1487.43  1515.83  1488.24  \n",
              "10   870.95   872.57   880.72  \n",
              "11  1133.95  1159.41  1176.65  \n",
              "12  1109.48  1103.31  1112.46  \n",
              "13  1734.50  1762.47  1767.96  \n",
              "14  1666.04  1712.26  1727.93  \n",
              "15  1439.75  1423.01  1438.35  \n",
              "16   146.86   135.23   144.48  "
            ],
            "text/html": [
              "\n",
              "  <div id=\"df-6a1b1ab5-fe0c-49c8-a50c-553880103641\">\n",
              "    <div class=\"colab-df-container\">\n",
              "      <div>\n",
              "<style scoped>\n",
              "    .dataframe tbody tr th:only-of-type {\n",
              "        vertical-align: middle;\n",
              "    }\n",
              "\n",
              "    .dataframe tbody tr th {\n",
              "        vertical-align: top;\n",
              "    }\n",
              "\n",
              "    .dataframe thead th {\n",
              "        text-align: right;\n",
              "    }\n",
              "</style>\n",
              "<table border=\"1\" class=\"dataframe\">\n",
              "  <thead>\n",
              "    <tr style=\"text-align: right;\">\n",
              "      <th></th>\n",
              "      <th>시도명</th>\n",
              "      <th>2020</th>\n",
              "      <th>교통사고건수</th>\n",
              "      <th>보행사고다발지역</th>\n",
              "      <th>노인보호구역</th>\n",
              "      <th>보행자전용도로</th>\n",
              "      <th>전국횡단보도</th>\n",
              "      <th>보행자_점수</th>\n",
              "      <th>교통약자_점수</th>\n",
              "      <th>도로환경_점수</th>\n",
              "      <th>전체_점수</th>\n",
              "    </tr>\n",
              "  </thead>\n",
              "  <tbody>\n",
              "    <tr>\n",
              "      <th>0</th>\n",
              "      <td>서울</td>\n",
              "      <td>1480.0</td>\n",
              "      <td>3.625000</td>\n",
              "      <td>0.898649</td>\n",
              "      <td>0.099324</td>\n",
              "      <td>0.060811</td>\n",
              "      <td>25.602703</td>\n",
              "      <td>1909.46</td>\n",
              "      <td>2024.79</td>\n",
              "      <td>1996.74</td>\n",
              "      <td>1959.39</td>\n",
              "    </tr>\n",
              "    <tr>\n",
              "      <th>1</th>\n",
              "      <td>부산</td>\n",
              "      <td>625.0</td>\n",
              "      <td>3.686400</td>\n",
              "      <td>1.152000</td>\n",
              "      <td>0.068800</td>\n",
              "      <td>0.124800</td>\n",
              "      <td>20.113600</td>\n",
              "      <td>1255.04</td>\n",
              "      <td>1295.24</td>\n",
              "      <td>1309.64</td>\n",
              "      <td>1286.37</td>\n",
              "    </tr>\n",
              "    <tr>\n",
              "      <th>2</th>\n",
              "      <td>대구</td>\n",
              "      <td>388.0</td>\n",
              "      <td>5.636598</td>\n",
              "      <td>0.664948</td>\n",
              "      <td>0.059278</td>\n",
              "      <td>0.018041</td>\n",
              "      <td>42.659794</td>\n",
              "      <td>599.93</td>\n",
              "      <td>602.45</td>\n",
              "      <td>595.50</td>\n",
              "      <td>601.57</td>\n",
              "    </tr>\n",
              "    <tr>\n",
              "      <th>3</th>\n",
              "      <td>인천</td>\n",
              "      <td>397.0</td>\n",
              "      <td>2.760705</td>\n",
              "      <td>0.408060</td>\n",
              "      <td>0.246851</td>\n",
              "      <td>0.944584</td>\n",
              "      <td>3.161209</td>\n",
              "      <td>713.76</td>\n",
              "      <td>731.70</td>\n",
              "      <td>743.86</td>\n",
              "      <td>727.20</td>\n",
              "    </tr>\n",
              "    <tr>\n",
              "      <th>4</th>\n",
              "      <td>광주</td>\n",
              "      <td>204.0</td>\n",
              "      <td>5.612745</td>\n",
              "      <td>0.490196</td>\n",
              "      <td>0.245098</td>\n",
              "      <td>0.009804</td>\n",
              "      <td>4.509804</td>\n",
              "      <td>402.11</td>\n",
              "      <td>390.03</td>\n",
              "      <td>392.84</td>\n",
              "      <td>391.29</td>\n",
              "    </tr>\n",
              "    <tr>\n",
              "      <th>5</th>\n",
              "      <td>대전</td>\n",
              "      <td>206.0</td>\n",
              "      <td>5.966019</td>\n",
              "      <td>0.485437</td>\n",
              "      <td>0.441748</td>\n",
              "      <td>1.791262</td>\n",
              "      <td>60.524272</td>\n",
              "      <td>394.59</td>\n",
              "      <td>393.46</td>\n",
              "      <td>393.16</td>\n",
              "      <td>394.50</td>\n",
              "    </tr>\n",
              "    <tr>\n",
              "      <th>6</th>\n",
              "      <td>울산</td>\n",
              "      <td>137.0</td>\n",
              "      <td>4.386861</td>\n",
              "      <td>0.437956</td>\n",
              "      <td>0.284672</td>\n",
              "      <td>0.080292</td>\n",
              "      <td>14.992701</td>\n",
              "      <td>403.48</td>\n",
              "      <td>417.24</td>\n",
              "      <td>409.45</td>\n",
              "      <td>405.19</td>\n",
              "    </tr>\n",
              "    <tr>\n",
              "      <th>7</th>\n",
              "      <td>세종</td>\n",
              "      <td>32.0</td>\n",
              "      <td>3.812500</td>\n",
              "      <td>0.000000</td>\n",
              "      <td>0.156250</td>\n",
              "      <td>0.000000</td>\n",
              "      <td>1.500000</td>\n",
              "      <td>82.57</td>\n",
              "      <td>84.02</td>\n",
              "      <td>84.07</td>\n",
              "      <td>82.48</td>\n",
              "    </tr>\n",
              "    <tr>\n",
              "      <th>8</th>\n",
              "      <td>경기</td>\n",
              "      <td>1709.0</td>\n",
              "      <td>4.585138</td>\n",
              "      <td>0.468110</td>\n",
              "      <td>0.201287</td>\n",
              "      <td>0.290228</td>\n",
              "      <td>23.787595</td>\n",
              "      <td>2402.03</td>\n",
              "      <td>2393.15</td>\n",
              "      <td>2312.95</td>\n",
              "      <td>2341.27</td>\n",
              "    </tr>\n",
              "    <tr>\n",
              "      <th>9</th>\n",
              "      <td>강원</td>\n",
              "      <td>302.0</td>\n",
              "      <td>5.420530</td>\n",
              "      <td>0.417219</td>\n",
              "      <td>0.274834</td>\n",
              "      <td>0.016556</td>\n",
              "      <td>9.596026</td>\n",
              "      <td>1472.43</td>\n",
              "      <td>1487.43</td>\n",
              "      <td>1515.83</td>\n",
              "      <td>1488.24</td>\n",
              "    </tr>\n",
              "    <tr>\n",
              "      <th>10</th>\n",
              "      <td>충북</td>\n",
              "      <td>277.0</td>\n",
              "      <td>6.765343</td>\n",
              "      <td>0.332130</td>\n",
              "      <td>0.797834</td>\n",
              "      <td>1.837545</td>\n",
              "      <td>3.956679</td>\n",
              "      <td>889.15</td>\n",
              "      <td>870.95</td>\n",
              "      <td>872.57</td>\n",
              "      <td>880.72</td>\n",
              "    </tr>\n",
              "    <tr>\n",
              "      <th>11</th>\n",
              "      <td>충남</td>\n",
              "      <td>389.0</td>\n",
              "      <td>5.488432</td>\n",
              "      <td>0.442159</td>\n",
              "      <td>1.462725</td>\n",
              "      <td>0.005141</td>\n",
              "      <td>11.059126</td>\n",
              "      <td>1191.77</td>\n",
              "      <td>1133.95</td>\n",
              "      <td>1159.41</td>\n",
              "      <td>1176.65</td>\n",
              "    </tr>\n",
              "    <tr>\n",
              "      <th>12</th>\n",
              "      <td>전북</td>\n",
              "      <td>369.0</td>\n",
              "      <td>5.154472</td>\n",
              "      <td>0.607046</td>\n",
              "      <td>0.073171</td>\n",
              "      <td>0.168022</td>\n",
              "      <td>14.092141</td>\n",
              "      <td>1113.09</td>\n",
              "      <td>1109.48</td>\n",
              "      <td>1103.31</td>\n",
              "      <td>1112.46</td>\n",
              "    </tr>\n",
              "    <tr>\n",
              "      <th>13</th>\n",
              "      <td>전남</td>\n",
              "      <td>408.0</td>\n",
              "      <td>7.639706</td>\n",
              "      <td>0.495098</td>\n",
              "      <td>0.112745</td>\n",
              "      <td>0.053922</td>\n",
              "      <td>4.007353</td>\n",
              "      <td>1777.66</td>\n",
              "      <td>1734.50</td>\n",
              "      <td>1762.47</td>\n",
              "      <td>1767.96</td>\n",
              "    </tr>\n",
              "    <tr>\n",
              "      <th>14</th>\n",
              "      <td>경북</td>\n",
              "      <td>549.0</td>\n",
              "      <td>6.338798</td>\n",
              "      <td>0.429872</td>\n",
              "      <td>0.315118</td>\n",
              "      <td>0.045537</td>\n",
              "      <td>10.122040</td>\n",
              "      <td>1739.88</td>\n",
              "      <td>1666.04</td>\n",
              "      <td>1712.26</td>\n",
              "      <td>1727.93</td>\n",
              "    </tr>\n",
              "    <tr>\n",
              "      <th>15</th>\n",
              "      <td>경남</td>\n",
              "      <td>554.0</td>\n",
              "      <td>5.003610</td>\n",
              "      <td>0.638989</td>\n",
              "      <td>0.137184</td>\n",
              "      <td>0.003610</td>\n",
              "      <td>9.202166</td>\n",
              "      <td>1441.43</td>\n",
              "      <td>1439.75</td>\n",
              "      <td>1423.01</td>\n",
              "      <td>1438.35</td>\n",
              "    </tr>\n",
              "    <tr>\n",
              "      <th>16</th>\n",
              "      <td>제주</td>\n",
              "      <td>101.0</td>\n",
              "      <td>6.801980</td>\n",
              "      <td>0.792079</td>\n",
              "      <td>1.039604</td>\n",
              "      <td>0.019802</td>\n",
              "      <td>33.742574</td>\n",
              "      <td>139.21</td>\n",
              "      <td>146.86</td>\n",
              "      <td>135.23</td>\n",
              "      <td>144.48</td>\n",
              "    </tr>\n",
              "  </tbody>\n",
              "</table>\n",
              "</div>\n",
              "      <button class=\"colab-df-convert\" onclick=\"convertToInteractive('df-6a1b1ab5-fe0c-49c8-a50c-553880103641')\"\n",
              "              title=\"Convert this dataframe to an interactive table.\"\n",
              "              style=\"display:none;\">\n",
              "        \n",
              "  <svg xmlns=\"http://www.w3.org/2000/svg\" height=\"24px\"viewBox=\"0 0 24 24\"\n",
              "       width=\"24px\">\n",
              "    <path d=\"M0 0h24v24H0V0z\" fill=\"none\"/>\n",
              "    <path d=\"M18.56 5.44l.94 2.06.94-2.06 2.06-.94-2.06-.94-.94-2.06-.94 2.06-2.06.94zm-11 1L8.5 8.5l.94-2.06 2.06-.94-2.06-.94L8.5 2.5l-.94 2.06-2.06.94zm10 10l.94 2.06.94-2.06 2.06-.94-2.06-.94-.94-2.06-.94 2.06-2.06.94z\"/><path d=\"M17.41 7.96l-1.37-1.37c-.4-.4-.92-.59-1.43-.59-.52 0-1.04.2-1.43.59L10.3 9.45l-7.72 7.72c-.78.78-.78 2.05 0 2.83L4 21.41c.39.39.9.59 1.41.59.51 0 1.02-.2 1.41-.59l7.78-7.78 2.81-2.81c.8-.78.8-2.07 0-2.86zM5.41 20L4 18.59l7.72-7.72 1.47 1.35L5.41 20z\"/>\n",
              "  </svg>\n",
              "      </button>\n",
              "      \n",
              "  <style>\n",
              "    .colab-df-container {\n",
              "      display:flex;\n",
              "      flex-wrap:wrap;\n",
              "      gap: 12px;\n",
              "    }\n",
              "\n",
              "    .colab-df-convert {\n",
              "      background-color: #E8F0FE;\n",
              "      border: none;\n",
              "      border-radius: 50%;\n",
              "      cursor: pointer;\n",
              "      display: none;\n",
              "      fill: #1967D2;\n",
              "      height: 32px;\n",
              "      padding: 0 0 0 0;\n",
              "      width: 32px;\n",
              "    }\n",
              "\n",
              "    .colab-df-convert:hover {\n",
              "      background-color: #E2EBFA;\n",
              "      box-shadow: 0px 1px 2px rgba(60, 64, 67, 0.3), 0px 1px 3px 1px rgba(60, 64, 67, 0.15);\n",
              "      fill: #174EA6;\n",
              "    }\n",
              "\n",
              "    [theme=dark] .colab-df-convert {\n",
              "      background-color: #3B4455;\n",
              "      fill: #D2E3FC;\n",
              "    }\n",
              "\n",
              "    [theme=dark] .colab-df-convert:hover {\n",
              "      background-color: #434B5C;\n",
              "      box-shadow: 0px 1px 3px 1px rgba(0, 0, 0, 0.15);\n",
              "      filter: drop-shadow(0px 1px 2px rgba(0, 0, 0, 0.3));\n",
              "      fill: #FFFFFF;\n",
              "    }\n",
              "  </style>\n",
              "\n",
              "      <script>\n",
              "        const buttonEl =\n",
              "          document.querySelector('#df-6a1b1ab5-fe0c-49c8-a50c-553880103641 button.colab-df-convert');\n",
              "        buttonEl.style.display =\n",
              "          google.colab.kernel.accessAllowed ? 'block' : 'none';\n",
              "\n",
              "        async function convertToInteractive(key) {\n",
              "          const element = document.querySelector('#df-6a1b1ab5-fe0c-49c8-a50c-553880103641');\n",
              "          const dataTable =\n",
              "            await google.colab.kernel.invokeFunction('convertToInteractive',\n",
              "                                                     [key], {});\n",
              "          if (!dataTable) return;\n",
              "\n",
              "          const docLinkHtml = 'Like what you see? Visit the ' +\n",
              "            '<a target=\"_blank\" href=https://colab.research.google.com/notebooks/data_table.ipynb>data table notebook</a>'\n",
              "            + ' to learn more about interactive tables.';\n",
              "          element.innerHTML = '';\n",
              "          dataTable['output_type'] = 'display_data';\n",
              "          await google.colab.output.renderOutput(dataTable, element);\n",
              "          const docLink = document.createElement('div');\n",
              "          docLink.innerHTML = docLinkHtml;\n",
              "          element.appendChild(docLink);\n",
              "        }\n",
              "      </script>\n",
              "    </div>\n",
              "  </div>\n",
              "  "
            ]
          },
          "metadata": {},
          "execution_count": 72
        }
      ]
    },
    {
      "cell_type": "markdown",
      "source": [
        "## Check Correlation"
      ],
      "metadata": {
        "id": "zYQB-JmAD1fy"
      },
      "id": "zYQB-JmAD1fy"
    },
    {
      "cell_type": "code",
      "source": [
        "import seaborn as sns\n",
        "import matplotlib.pyplot as plt\n",
        "\n",
        "plt.rc('font', family='NanumBarunGothic') "
      ],
      "metadata": {
        "id": "KeYhGhQZDbje"
      },
      "id": "KeYhGhQZDbje",
      "execution_count": null,
      "outputs": []
    },
    {
      "cell_type": "code",
      "source": [
        "sns.pairplot(elderly_df_scaling, hue=\"시도명\", palette=\"husl\")\n",
        "plt.show()"
      ],
      "metadata": {
        "colab": {
          "base_uri": "https://localhost:8080/",
          "height": 1000
        },
        "id": "X6VgHdXsD57f",
        "outputId": "5a5b670f-41cb-4de2-c5df-c0552b42e9e2"
      },
      "id": "X6VgHdXsD57f",
      "execution_count": null,
      "outputs": [
        {
          "output_type": "display_data",
          "data": {
            "text/plain": [
              "<Figure size 1853.75x1800 with 110 Axes>"
            ],
            "image/png": "[encoded data removed]"
          },
          "metadata": {
            "needs_background": "light"
          }
        }
      ]
    },
    {
      "cell_type": "code",
      "source": [
        "elderly_df_scaling_heat = elderly_df_scaling.drop[columns = '시도명', axis = 1, inplace=True]\n",
        "\n",
        "colormap = plt.cm.PuBu\n",
        "plt.figure(figsize=(10, 8))\n",
        "plt.title(\"Person Correlation of Features\", y = 1.05, size = 15)\n",
        "sns.heatmap(elderly_df_scaling_heat.astype(float).corr(), linewidths = 0.1, vmax = 1.0,\n",
        "           square = True, cmap = colormap, linecolor = \"white\", annot = True, annot_kws = {\"size\" : 16})"
      ],
      "metadata": {
        "id": "cP3js9pFKeva",
        "colab": {
          "base_uri": "https://localhost:8080/",
          "height": 421
        },
        "outputId": "d91f39b1-f391-4978-c565-6f6f7b64dc59"
      },
      "id": "cP3js9pFKeva",
      "execution_count": null,
      "outputs": [
        {
          "output_type": "stream",
          "name": "stderr",
          "text": [
            "/usr/local/lib/python3.7/dist-packages/matplotlib/backends/backend_agg.py:214: RuntimeWarning: Glyph 8722 missing from current font.\n",
            "  font.set_text(s, 0.0, flags=flags)\n",
            "/usr/local/lib/python3.7/dist-packages/matplotlib/backends/backend_agg.py:183: RuntimeWarning: Glyph 8722 missing from current font.\n",
            "  font.set_text(s, 0, flags=flags)\n"
          ]
        },
        {
          "output_type": "execute_result",
          "data": {
            "text/plain": [
              "<matplotlib.axes._subplots.AxesSubplot at 0x7fccd952efd0>"
            ]
          },
          "metadata": {},
          "execution_count": 75
        },
        {
          "output_type": "display_data",
          "data": {
            "text/plain": [
              "<Figure size 432x288 with 2 Axes>"
            ],
            "image/png": "[encoded data removed]"
          },
          "metadata": {
            "needs_background": "light"
          }
        }
      ]
    },
    {
      "cell_type": "markdown",
      "source": [
        "어린이 교통사고 건수"
      ],
      "metadata": {
        "id": "sDCuCgGbxNbX"
      },
      "id": "sDCuCgGbxNbX"
    },
    {
      "cell_type": "code",
      "source": [
        "children_accident = pd.read_excel('/content/drive/Shareddrives/deepDaiv/월별어린이(12세이하)교통사고.xls')\n",
        "children_accident = children_accident.drop(labels=range(0,7), axis=0)\n",
        "children_accident = children_accident.drop(labels=range(8,13), axis=0)\n",
        "children_accident = children_accident.drop(labels=range(14,19), axis=0)\n",
        "children_accident = children_accident.drop(labels=range(20,25), axis=0)\n",
        "children_accident = children_accident.drop(labels=range(26,31), axis=0)\n",
        "children_accident = children_accident.drop(labels=range(32,37), axis=0)\n",
        "children_accident = children_accident.drop(labels=range(38,43), axis=0)\n",
        "children_accident = children_accident.drop(labels=range(44,49), axis=0)\n",
        "children_accident = children_accident.drop(labels=range(50,55), axis=0)\n",
        "children_accident = children_accident.drop(labels=range(56,61), axis=0)\n",
        "children_accident = children_accident.drop(labels=range(62,67), axis=0)\n",
        "children_accident = children_accident.drop(labels=range(68,73), axis=0)\n",
        "children_accident = children_accident.drop(labels=range(74,79), axis=0)\n",
        "children_accident = children_accident.drop(labels=range(80,85), axis=0)\n",
        "children_accident = children_accident.drop(labels=range(86,91), axis=0)\n",
        "children_accident = children_accident.drop(labels=range(92,97), axis=0)\n",
        "children_accident = children_accident.drop(labels=range(98,103), axis=0)\n",
        "children_accident = children_accident.drop(labels=range(104,109), axis=0)\n",
        "children_accident = children_accident.drop(['기준년도','2020'], axis=1)\n",
        "children_accident"
      ],
      "metadata": {
        "colab": {
          "base_uri": "https://localhost:8080/",
          "height": 582
        },
        "id": "oooLvwi8xFEJ",
        "outputId": "ad4bef70-c95d-4b0c-ebb7-f9258c666582"
      },
      "id": "oooLvwi8xFEJ",
      "execution_count": null,
      "outputs": [
        {
          "output_type": "execute_result",
          "data": {
            "text/plain": [
              "     시도    피해자수\n",
              "7    서울  2158.0\n",
              "13   부산   937.0\n",
              "19   대구  1316.0\n",
              "25   인천   817.0\n",
              "31   광주   973.0\n",
              "37   대전   696.0\n",
              "43   울산   368.0\n",
              "49   세종    80.0\n",
              "55   경기  5672.0\n",
              "61   강원   849.0\n",
              "67   충북  1019.0\n",
              "73   충남   950.0\n",
              "79   전북   769.0\n",
              "85   전남  1227.0\n",
              "91   경북  1297.0\n",
              "97   경남  1299.0\n",
              "103  제주   597.0"
            ],
            "text/html": [
              "\n",
              "  <div id=\"df-ad26d117-bcb6-4b5b-b5c8-769c7b9c3f21\">\n",
              "    <div class=\"colab-df-container\">\n",
              "      <div>\n",
              "<style scoped>\n",
              "    .dataframe tbody tr th:only-of-type {\n",
              "        vertical-align: middle;\n",
              "    }\n",
              "\n",
              "    .dataframe tbody tr th {\n",
              "        vertical-align: top;\n",
              "    }\n",
              "\n",
              "    .dataframe thead th {\n",
              "        text-align: right;\n",
              "    }\n",
              "</style>\n",
              "<table border=\"1\" class=\"dataframe\">\n",
              "  <thead>\n",
              "    <tr style=\"text-align: right;\">\n",
              "      <th></th>\n",
              "      <th>시도</th>\n",
              "      <th>피해자수</th>\n",
              "    </tr>\n",
              "  </thead>\n",
              "  <tbody>\n",
              "    <tr>\n",
              "      <th>7</th>\n",
              "      <td>서울</td>\n",
              "      <td>2158.0</td>\n",
              "    </tr>\n",
              "    <tr>\n",
              "      <th>13</th>\n",
              "      <td>부산</td>\n",
              "      <td>937.0</td>\n",
              "    </tr>\n",
              "    <tr>\n",
              "      <th>19</th>\n",
              "      <td>대구</td>\n",
              "      <td>1316.0</td>\n",
              "    </tr>\n",
              "    <tr>\n",
              "      <th>25</th>\n",
              "      <td>인천</td>\n",
              "      <td>817.0</td>\n",
              "    </tr>\n",
              "    <tr>\n",
              "      <th>31</th>\n",
              "      <td>광주</td>\n",
              "      <td>973.0</td>\n",
              "    </tr>\n",
              "    <tr>\n",
              "      <th>37</th>\n",
              "      <td>대전</td>\n",
              "      <td>696.0</td>\n",
              "    </tr>\n",
              "    <tr>\n",
              "      <th>43</th>\n",
              "      <td>울산</td>\n",
              "      <td>368.0</td>\n",
              "    </tr>\n",
              "    <tr>\n",
              "      <th>49</th>\n",
              "      <td>세종</td>\n",
              "      <td>80.0</td>\n",
              "    </tr>\n",
              "    <tr>\n",
              "      <th>55</th>\n",
              "      <td>경기</td>\n",
              "      <td>5672.0</td>\n",
              "    </tr>\n",
              "    <tr>\n",
              "      <th>61</th>\n",
              "      <td>강원</td>\n",
              "      <td>849.0</td>\n",
              "    </tr>\n",
              "    <tr>\n",
              "      <th>67</th>\n",
              "      <td>충북</td>\n",
              "      <td>1019.0</td>\n",
              "    </tr>\n",
              "    <tr>\n",
              "      <th>73</th>\n",
              "      <td>충남</td>\n",
              "      <td>950.0</td>\n",
              "    </tr>\n",
              "    <tr>\n",
              "      <th>79</th>\n",
              "      <td>전북</td>\n",
              "      <td>769.0</td>\n",
              "    </tr>\n",
              "    <tr>\n",
              "      <th>85</th>\n",
              "      <td>전남</td>\n",
              "      <td>1227.0</td>\n",
              "    </tr>\n",
              "    <tr>\n",
              "      <th>91</th>\n",
              "      <td>경북</td>\n",
              "      <td>1297.0</td>\n",
              "    </tr>\n",
              "    <tr>\n",
              "      <th>97</th>\n",
              "      <td>경남</td>\n",
              "      <td>1299.0</td>\n",
              "    </tr>\n",
              "    <tr>\n",
              "      <th>103</th>\n",
              "      <td>제주</td>\n",
              "      <td>597.0</td>\n",
              "    </tr>\n",
              "  </tbody>\n",
              "</table>\n",
              "</div>\n",
              "      <button class=\"colab-df-convert\" onclick=\"convertToInteractive('df-ad26d117-bcb6-4b5b-b5c8-769c7b9c3f21')\"\n",
              "              title=\"Convert this dataframe to an interactive table.\"\n",
              "              style=\"display:none;\">\n",
              "        \n",
              "  <svg xmlns=\"http://www.w3.org/2000/svg\" height=\"24px\"viewBox=\"0 0 24 24\"\n",
              "       width=\"24px\">\n",
              "    <path d=\"M0 0h24v24H0V0z\" fill=\"none\"/>\n",
              "    <path d=\"M18.56 5.44l.94 2.06.94-2.06 2.06-.94-2.06-.94-.94-2.06-.94 2.06-2.06.94zm-11 1L8.5 8.5l.94-2.06 2.06-.94-2.06-.94L8.5 2.5l-.94 2.06-2.06.94zm10 10l.94 2.06.94-2.06 2.06-.94-2.06-.94-.94-2.06-.94 2.06-2.06.94z\"/><path d=\"M17.41 7.96l-1.37-1.37c-.4-.4-.92-.59-1.43-.59-.52 0-1.04.2-1.43.59L10.3 9.45l-7.72 7.72c-.78.78-.78 2.05 0 2.83L4 21.41c.39.39.9.59 1.41.59.51 0 1.02-.2 1.41-.59l7.78-7.78 2.81-2.81c.8-.78.8-2.07 0-2.86zM5.41 20L4 18.59l7.72-7.72 1.47 1.35L5.41 20z\"/>\n",
              "  </svg>\n",
              "      </button>\n",
              "      \n",
              "  <style>\n",
              "    .colab-df-container {\n",
              "      display:flex;\n",
              "      flex-wrap:wrap;\n",
              "      gap: 12px;\n",
              "    }\n",
              "\n",
              "    .colab-df-convert {\n",
              "      background-color: #E8F0FE;\n",
              "      border: none;\n",
              "      border-radius: 50%;\n",
              "      cursor: pointer;\n",
              "      display: none;\n",
              "      fill: #1967D2;\n",
              "      height: 32px;\n",
              "      padding: 0 0 0 0;\n",
              "      width: 32px;\n",
              "    }\n",
              "\n",
              "    .colab-df-convert:hover {\n",
              "      background-color: #E2EBFA;\n",
              "      box-shadow: 0px 1px 2px rgba(60, 64, 67, 0.3), 0px 1px 3px 1px rgba(60, 64, 67, 0.15);\n",
              "      fill: #174EA6;\n",
              "    }\n",
              "\n",
              "    [theme=dark] .colab-df-convert {\n",
              "      background-color: #3B4455;\n",
              "      fill: #D2E3FC;\n",
              "    }\n",
              "\n",
              "    [theme=dark] .colab-df-convert:hover {\n",
              "      background-color: #434B5C;\n",
              "      box-shadow: 0px 1px 3px 1px rgba(0, 0, 0, 0.15);\n",
              "      filter: drop-shadow(0px 1px 2px rgba(0, 0, 0, 0.3));\n",
              "      fill: #FFFFFF;\n",
              "    }\n",
              "  </style>\n",
              "\n",
              "      <script>\n",
              "        const buttonEl =\n",
              "          document.querySelector('#df-ad26d117-bcb6-4b5b-b5c8-769c7b9c3f21 button.colab-df-convert');\n",
              "        buttonEl.style.display =\n",
              "          google.colab.kernel.accessAllowed ? 'block' : 'none';\n",
              "\n",
              "        async function convertToInteractive(key) {\n",
              "          const element = document.querySelector('#df-ad26d117-bcb6-4b5b-b5c8-769c7b9c3f21');\n",
              "          const dataTable =\n",
              "            await google.colab.kernel.invokeFunction('convertToInteractive',\n",
              "                                                     [key], {});\n",
              "          if (!dataTable) return;\n",
              "\n",
              "          const docLinkHtml = 'Like what you see? Visit the ' +\n",
              "            '<a target=\"_blank\" href=https://colab.research.google.com/notebooks/data_table.ipynb>data table notebook</a>'\n",
              "            + ' to learn more about interactive tables.';\n",
              "          element.innerHTML = '';\n",
              "          dataTable['output_type'] = 'display_data';\n",
              "          await google.colab.output.renderOutput(dataTable, element);\n",
              "          const docLink = document.createElement('div');\n",
              "          docLink.innerHTML = docLinkHtml;\n",
              "          element.appendChild(docLink);\n",
              "        }\n",
              "      </script>\n",
              "    </div>\n",
              "  </div>\n",
              "  "
            ]
          },
          "metadata": {},
          "execution_count": 104
        }
      ]
    },
    {
      "cell_type": "code",
      "source": [
        "# 서울\n",
        "children_accident = children_accident[children_accident['시도']=='서울']\n",
        "children_accident = children_accident.drop(6)\n",
        "children_accident = children_accident['2020'].sum()\n",
        "# 부산\n",
        "children_accident = children_accident[children_accident['시도']=='부산']\n",
        "children_accident = children_accident.drop(12)\n",
        "children_accident = children_accident['2020'].sum()\n",
        "# 대구\n",
        "children_accident = children_accident[children_accident['시도']=='대구']\n",
        "children_accident = children_accident.drop(18)\n",
        "children_accident = children_accident['2020'].sum()\n",
        "# 인천\n",
        "children_accident = children_accident[children_accident['시도']=='인천']\n",
        "children_accident = children_accident.drop(24)\n",
        "children_accident = children_accident['2020'].sum()\n",
        "# 광주\n",
        "children_accident = children_accident[children_accident['시도']=='광주']\n",
        "children_accident_seoul = children_accident_seoul.drop(30)\n",
        "children_accident_seoul = children_accident_seoul['2020'].sum()\n",
        "# 대전\n",
        "children_accident_seoul = children_accident[children_accident['시도']=='대전']\n",
        "children_accident_seoul = children_accident_seoul.drop(36)\n",
        "children_accident_seoul = children_accident_seoul['2020'].sum()\n",
        "# 울산\n",
        "children_accident_seoul = children_accident[children_accident['시도']=='울산']\n",
        "children_accident_seoul = children_accident_seoul.drop(42)\n",
        "children_accident_seoul = children_accident_seoul['2020'].sum()\n",
        "# 세종\n",
        "children_accident_seoul = children_accident[children_accident['시도']=='세종']\n",
        "children_accident_seoul = children_accident_seoul.drop(48)\n",
        "children_accident_seoul = children_accident_seoul['2020'].sum()\n",
        "# 경기\n",
        "children_accident_seoul = children_accident[children_accident['시도']=='경기']\n",
        "children_accident_seoul = children_accident_seoul.drop(54)\n",
        "children_accident_seoul = children_accident_seoul['2020'].sum()\n",
        "# 강원\n",
        "children_accident_seoul = children_accident[children_accident['시도']=='강원']\n",
        "children_accident_seoul = children_accident_seoul.drop(60)\n",
        "children_accident_seoul = children_accident_seoul['2020'].sum()\n",
        "# 충북\n",
        "children_accident_seoul = children_accident[children_accident['시도']=='충북']\n",
        "children_accident_seoul = children_accident_seoul.drop(66)\n",
        "children_accident_seoul = children_accident_seoul['2020'].sum()\n",
        "# 충남\n",
        "children_accident_seoul = children_accident[children_accident['시도']=='충남']\n",
        "children_accident_seoul = children_accident_seoul.drop(72)\n",
        "children_accident_seoul = children_accident_seoul['2020'].sum()\n",
        "# 전북\n",
        "children_accident_seoul = children_accident[children_accident['시도']=='전북']\n",
        "children_accident_seoul = children_accident_seoul.drop(78)\n",
        "children_accident_seoul = children_accident_seoul['2020'].sum()\n",
        "# 전남\n",
        "children_accident_seoul = children_accident[children_accident['시도']=='전남']\n",
        "children_accident_seoul = children_accident_seoul.drop(84)\n",
        "children_accident_seoul = children_accident_seoul['2020'].sum()\n",
        "# 경북\n",
        "children_accident_seoul = children_accident[children_accident['시도']=='경북']\n",
        "children_accident_seoul = children_accident_seoul.drop(90)\n",
        "children_accident_seoul = children_accident_seoul['2020'].sum()\n",
        "# 경남\n",
        "children_accident_seoul = children_accident[children_accident['시도']=='경남']\n",
        "children_accident_seoul = children_accident_seoul.drop(96)\n",
        "children_accident_seoul = children_accident_seoul['2020'].sum()\n",
        "# 제주\n",
        "children_accident_seoul = children_accident[children_accident['시도']=='제주']\n",
        "children_accident_seoul = children_accident_seoul.drop(102)\n",
        "children_accident_seoul = children_accident_seoul['2020'].sum()\n",
        "children_accident_seoul"
      ],
      "metadata": {
        "colab": {
          "base_uri": "https://localhost:8080/"
        },
        "id": "fgtG-3izzPm_",
        "outputId": "139cc4db-6634-4c2b-92fb-2b7064b54a06"
      },
      "id": "fgtG-3izzPm_",
      "execution_count": null,
      "outputs": [
        {
          "output_type": "execute_result",
          "data": {
            "text/plain": [
              "2158.0"
            ]
          },
          "metadata": {},
          "execution_count": 91
        }
      ]
    }
  ],
  "metadata": {
    "kernelspec": {
      "display_name": "Python 3 (ipykernel)",
      "language": "python",
      "name": "python3"
    },
    "language_info": {
      "codemirror_mode": {
        "name": "ipython",
        "version": 3
      },
      "file_extension": ".py",
      "mimetype": "text/x-python",
      "name": "python",
      "nbconvert_exporter": "python",
      "pygments_lexer": "ipython3",
      "version": "3.9.7"
    },
    "colab": {
      "provenance": []
    }
  },
  "nbformat": 4,
  "nbformat_minor": 5
}